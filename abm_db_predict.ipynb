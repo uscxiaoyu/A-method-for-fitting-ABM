{
 "cells": [
  {
   "cell_type": "code",
   "execution_count": 1,
   "metadata": {},
   "outputs": [],
   "source": [
    "%matplotlib inline\n",
    "from abmdb_est import *"
   ]
  },
  {
   "cell_type": "code",
   "execution_count": 2,
   "metadata": {},
   "outputs": [],
   "source": [
    "s_dict = {'room air conditioners':(np.arange(1949, 1962), \n",
    "                [96, 195, 238, 380, 1045, 1230, 1267, 1828, 1586, 1673, 1800, 1580, 1500]),\n",
    "        'color televisions':(np.arange(1963,1971),\n",
    "                [747,1480,2646,5118,5777,5982,5962,4631]),\n",
    "        'clothers dryers':(np.arange(1949,1962),\n",
    "                [106,319,492,635,737,890,1397,1523,1294,1240,1425,1260,1236])}"
   ]
  },
  {
   "cell_type": "code",
   "execution_count": 3,
   "metadata": {},
   "outputs": [],
   "source": [
    "client = MongoClient()\n",
    "database = client.abmDiffusion\n",
    "prj = database.abmDatabase"
   ]
  },
  {
   "cell_type": "code",
   "execution_count": 5,
   "metadata": {},
   "outputs": [],
   "source": [
    "id_cont = []\n",
    "for x in prj.find({}, projection={\"_id\":1}):\n",
    "    id_cont.append(x[\"_id\"])"
   ]
  },
  {
   "cell_type": "markdown",
   "metadata": {},
   "source": [
    "- 预测"
   ]
  },
  {
   "cell_type": "code",
   "execution_count": 20,
   "metadata": {},
   "outputs": [],
   "source": [
    "s = s_dict[\"room air conditioners\"][1]\n",
    "data_cont = []\n",
    "for i, _id in enumerate(id_cont):\n",
    "    db = prj.find_one({\"_id\": _id})\n",
    "    abm = abmDBfit(db)\n",
    "    pred = abm.predict(s)\n",
    "    mean_pred = np.mean(pred, axis=0)\n",
    "    data_cont.append(list(mean_pred))"
   ]
  },
  {
   "cell_type": "code",
   "execution_count": 8,
   "metadata": {},
   "outputs": [],
   "source": [
    "columns = [\"mpa\", \"mad\", \"mse\"]"
   ]
  },
  {
   "cell_type": "code",
   "execution_count": 21,
   "metadata": {},
   "outputs": [],
   "source": [
    "df = pd.DataFrame(data_cont, index=id_cont, columns=columns)"
   ]
  },
  {
   "cell_type": "code",
   "execution_count": 22,
   "metadata": {},
   "outputs": [
    {
     "data": {
      "text/html": [
       "<div>\n",
       "<style scoped>\n",
       "    .dataframe tbody tr th:only-of-type {\n",
       "        vertical-align: middle;\n",
       "    }\n",
       "\n",
       "    .dataframe tbody tr th {\n",
       "        vertical-align: top;\n",
       "    }\n",
       "\n",
       "    .dataframe thead th {\n",
       "        text-align: right;\n",
       "    }\n",
       "</style>\n",
       "<table border=\"1\" class=\"dataframe\">\n",
       "  <thead>\n",
       "    <tr style=\"text-align: right;\">\n",
       "      <th></th>\n",
       "      <th>mpa</th>\n",
       "      <th>mad</th>\n",
       "      <th>mse</th>\n",
       "    </tr>\n",
       "  </thead>\n",
       "  <tbody>\n",
       "    <tr>\n",
       "      <th>gnm_random_graph(10000,80000)</th>\n",
       "      <td>0.278532</td>\n",
       "      <td>426.230767</td>\n",
       "      <td>256104.040461</td>\n",
       "    </tr>\n",
       "    <tr>\n",
       "      <th>exponential_graph(10000,3)</th>\n",
       "      <td>0.323632</td>\n",
       "      <td>498.753170</td>\n",
       "      <td>387655.031996</td>\n",
       "    </tr>\n",
       "    <tr>\n",
       "      <th>watts_strogatz_graph(10000,6,1.0)</th>\n",
       "      <td>0.245686</td>\n",
       "      <td>371.157982</td>\n",
       "      <td>185395.190230</td>\n",
       "    </tr>\n",
       "    <tr>\n",
       "      <th>gnm_random_graph(10000,30000)</th>\n",
       "      <td>0.240320</td>\n",
       "      <td>368.527344</td>\n",
       "      <td>167256.574819</td>\n",
       "    </tr>\n",
       "    <tr>\n",
       "      <th>watts_strogatz_graph(10000,6,0.3)</th>\n",
       "      <td>0.235251</td>\n",
       "      <td>357.425713</td>\n",
       "      <td>161246.793921</td>\n",
       "    </tr>\n",
       "    <tr>\n",
       "      <th>gnm_random_graph(10000,40000)</th>\n",
       "      <td>0.238661</td>\n",
       "      <td>363.870929</td>\n",
       "      <td>177130.183431</td>\n",
       "    </tr>\n",
       "    <tr>\n",
       "      <th>gnm_random_graph(10000,100000)</th>\n",
       "      <td>0.220013</td>\n",
       "      <td>352.658074</td>\n",
       "      <td>144849.102651</td>\n",
       "    </tr>\n",
       "    <tr>\n",
       "      <th>gnm_random_graph(10000,50000)</th>\n",
       "      <td>0.248631</td>\n",
       "      <td>379.170061</td>\n",
       "      <td>203784.080193</td>\n",
       "    </tr>\n",
       "    <tr>\n",
       "      <th>watts_strogatz_graph(10000,6,0.5)</th>\n",
       "      <td>0.350075</td>\n",
       "      <td>538.395183</td>\n",
       "      <td>423950.040436</td>\n",
       "    </tr>\n",
       "    <tr>\n",
       "      <th>watts_strogatz_graph(10000,6,0)</th>\n",
       "      <td>0.156821</td>\n",
       "      <td>259.027758</td>\n",
       "      <td>84108.661003</td>\n",
       "    </tr>\n",
       "    <tr>\n",
       "      <th>barabasi_albert_graph(10000,3)</th>\n",
       "      <td>0.150630</td>\n",
       "      <td>240.096443</td>\n",
       "      <td>65613.964141</td>\n",
       "    </tr>\n",
       "    <tr>\n",
       "      <th>gnm_random_graph(10000,70000)</th>\n",
       "      <td>0.309261</td>\n",
       "      <td>461.109089</td>\n",
       "      <td>336840.819041</td>\n",
       "    </tr>\n",
       "    <tr>\n",
       "      <th>watts_strogatz_graph(10000,6,0.9)</th>\n",
       "      <td>0.316271</td>\n",
       "      <td>490.800608</td>\n",
       "      <td>315332.111382</td>\n",
       "    </tr>\n",
       "    <tr>\n",
       "      <th>lognormal_graph(10000,3)</th>\n",
       "      <td>0.120362</td>\n",
       "      <td>197.580373</td>\n",
       "      <td>64817.706767</td>\n",
       "    </tr>\n",
       "    <tr>\n",
       "      <th>watts_strogatz_graph(10000,6,0.1)</th>\n",
       "      <td>0.159193</td>\n",
       "      <td>239.872367</td>\n",
       "      <td>134194.310019</td>\n",
       "    </tr>\n",
       "    <tr>\n",
       "      <th>gaussian_graph(10000,3)</th>\n",
       "      <td>0.270604</td>\n",
       "      <td>412.769010</td>\n",
       "      <td>246028.147002</td>\n",
       "    </tr>\n",
       "    <tr>\n",
       "      <th>epinions_graph</th>\n",
       "      <td>0.093842</td>\n",
       "      <td>159.864596</td>\n",
       "      <td>55360.823646</td>\n",
       "    </tr>\n",
       "    <tr>\n",
       "      <th>watts_strogatz_graph(10000,6,0.7)</th>\n",
       "      <td>0.216423</td>\n",
       "      <td>329.215519</td>\n",
       "      <td>165190.652142</td>\n",
       "    </tr>\n",
       "    <tr>\n",
       "      <th>gnm_random_graph(10000,60000)</th>\n",
       "      <td>0.253957</td>\n",
       "      <td>392.634883</td>\n",
       "      <td>194630.258341</td>\n",
       "    </tr>\n",
       "    <tr>\n",
       "      <th>facebook_graph</th>\n",
       "      <td>0.194535</td>\n",
       "      <td>299.075221</td>\n",
       "      <td>148278.028826</td>\n",
       "    </tr>\n",
       "    <tr>\n",
       "      <th>gnm_random_graph(10000,90000)</th>\n",
       "      <td>0.272931</td>\n",
       "      <td>420.407711</td>\n",
       "      <td>236357.864965</td>\n",
       "    </tr>\n",
       "  </tbody>\n",
       "</table>\n",
       "</div>"
      ],
      "text/plain": [
       "                                        mpa         mad            mse\n",
       "gnm_random_graph(10000,80000)      0.278532  426.230767  256104.040461\n",
       "exponential_graph(10000,3)         0.323632  498.753170  387655.031996\n",
       "watts_strogatz_graph(10000,6,1.0)  0.245686  371.157982  185395.190230\n",
       "gnm_random_graph(10000,30000)      0.240320  368.527344  167256.574819\n",
       "watts_strogatz_graph(10000,6,0.3)  0.235251  357.425713  161246.793921\n",
       "gnm_random_graph(10000,40000)      0.238661  363.870929  177130.183431\n",
       "gnm_random_graph(10000,100000)     0.220013  352.658074  144849.102651\n",
       "gnm_random_graph(10000,50000)      0.248631  379.170061  203784.080193\n",
       "watts_strogatz_graph(10000,6,0.5)  0.350075  538.395183  423950.040436\n",
       "watts_strogatz_graph(10000,6,0)    0.156821  259.027758   84108.661003\n",
       "barabasi_albert_graph(10000,3)     0.150630  240.096443   65613.964141\n",
       "gnm_random_graph(10000,70000)      0.309261  461.109089  336840.819041\n",
       "watts_strogatz_graph(10000,6,0.9)  0.316271  490.800608  315332.111382\n",
       "lognormal_graph(10000,3)           0.120362  197.580373   64817.706767\n",
       "watts_strogatz_graph(10000,6,0.1)  0.159193  239.872367  134194.310019\n",
       "gaussian_graph(10000,3)            0.270604  412.769010  246028.147002\n",
       "epinions_graph                     0.093842  159.864596   55360.823646\n",
       "watts_strogatz_graph(10000,6,0.7)  0.216423  329.215519  165190.652142\n",
       "gnm_random_graph(10000,60000)      0.253957  392.634883  194630.258341\n",
       "facebook_graph                     0.194535  299.075221  148278.028826\n",
       "gnm_random_graph(10000,90000)      0.272931  420.407711  236357.864965"
      ]
     },
     "execution_count": 22,
     "metadata": {},
     "output_type": "execute_result"
    }
   ],
   "source": [
    "df"
   ]
  },
  {
   "cell_type": "code",
   "execution_count": 23,
   "metadata": {},
   "outputs": [],
   "source": [
    "df.to_excel(excel_writer=\"predict_room_air_conditioners.xls\")"
   ]
  },
  {
   "cell_type": "markdown",
   "metadata": {},
   "source": [
    "- 综合预测combine"
   ]
  },
  {
   "cell_type": "code",
   "execution_count": 6,
   "metadata": {},
   "outputs": [],
   "source": [
    "abm_list = []\n",
    "for _id in id_cont:\n",
    "    db = prj.find_one({\"_id\": _id})\n",
    "    abm_list.append(abmDBfit(db))"
   ]
  },
  {
   "cell_type": "code",
   "execution_count": 21,
   "metadata": {},
   "outputs": [],
   "source": [
    "def combine_predict(s, b_idx=6, abm_list=abm_list):\n",
    "    mean_one_step = []\n",
    "    for i in range(b_idx, len(s)):\n",
    "        x = s[:i]\n",
    "        one_step = []\n",
    "        for abm in abm_list:\n",
    "            res = abm.fit(x)\n",
    "            one_step.append(res[1][i])\n",
    "            \n",
    "        delta = abs(np.mean(one_step) - s[i])\n",
    "        mean_one_step.append([delta/s[i], delta, delta**2])\n",
    "    return mean_one_step"
   ]
  },
  {
   "cell_type": "code",
   "execution_count": 30,
   "metadata": {},
   "outputs": [
    {
     "name": "stdout",
     "output_type": "stream",
     "text": [
      "mpe:0.222, mad:341, mse:1.50E+05\n"
     ]
    }
   ],
   "source": [
    "s = s_dict[\"room air conditioners\"][1]\n",
    "result_1 = combine_predict(s)\n",
    "r_1 = np.mean(result_1, axis=0)\n",
    "print(f\"mpe:{r_1[0]:.3f}, mad:{r_1[1]:.0f}, mse:{r_1[2]:.2E}\")"
   ]
  },
  {
   "cell_type": "code",
   "execution_count": 31,
   "metadata": {},
   "outputs": [
    {
     "name": "stdout",
     "output_type": "stream",
     "text": [
      "mpe:0.045, mad:218, mse:6.21E+04\n"
     ]
    }
   ],
   "source": [
    "s = s_dict[\"color televisions\"][1]\n",
    "result_2 = combine_predict(s)\n",
    "r_2 = np.mean(result_2, axis=0)\n",
    "print(f\"mpe:{r_2[0]:.3f}, mad:{r_2[1]:.0f}, mse:{r_2[2]:.2E}\")"
   ]
  },
  {
   "cell_type": "code",
   "execution_count": 32,
   "metadata": {},
   "outputs": [
    {
     "name": "stdout",
     "output_type": "stream",
     "text": [
      "mpe:0.209, mad:283, mse:1.10E+05\n"
     ]
    }
   ],
   "source": [
    "s = s_dict[\"clothers dryers\"][1]\n",
    "result_3 = combine_predict(s)\n",
    "r_3 = np.mean(result_3, axis=0)\n",
    "print(f\"mpe:{r_3[0]:.3f}, mad:{r_3[1]:.0f}, mse:{r_3[2]:.2E}\")"
   ]
  },
  {
   "cell_type": "code",
   "execution_count": null,
   "metadata": {},
   "outputs": [],
   "source": []
  }
 ],
 "metadata": {
  "kernelspec": {
   "display_name": "Python 3",
   "language": "python",
   "name": "python3"
  },
  "language_info": {
   "codemirror_mode": {
    "name": "ipython",
    "version": 3
   },
   "file_extension": ".py",
   "mimetype": "text/x-python",
   "name": "python",
   "nbconvert_exporter": "python",
   "pygments_lexer": "ipython3",
   "version": "3.7.1"
  }
 },
 "nbformat": 4,
 "nbformat_minor": 2
}
