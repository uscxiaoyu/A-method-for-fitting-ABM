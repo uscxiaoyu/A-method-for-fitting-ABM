{
 "cells": [
  {
   "cell_type": "markdown",
   "metadata": {},
   "source": [
    "### 尝试边界"
   ]
  },
  {
   "cell_type": "code",
   "execution_count": 2,
   "metadata": {},
   "outputs": [
    {
     "name": "stdout",
     "output_type": "stream",
     "text": [
      "Populating the interactive namespace from numpy and matplotlib\n"
     ]
    }
   ],
   "source": [
    "%pylab inline\n",
    "from abmdiffuse import Diffuse\n",
    "from bassestimate import BassEstimate\n",
    "from pymongo import MongoClient\n",
    "import numpy as np\n",
    "import pylab as pl\n",
    "import networkx as nx\n",
    "import datetime\n",
    "import time"
   ]
  },
  {
   "cell_type": "code",
   "execution_count": 3,
   "metadata": {},
   "outputs": [],
   "source": [
    "client = MongoClient('localhost', 27017)\n",
    "db = client.abmDiffusion\n",
    "prj = db.networks"
   ]
  },
  {
   "cell_type": "code",
   "execution_count": 4,
   "metadata": {},
   "outputs": [],
   "source": [
    "class Gen_para:\n",
    "    def __init__(self, g, p_cont=(0.001, 0.02), q_cont=(0.08, 0.1), delta=(0.0005, 0.01)):\n",
    "        self.p_cont = p_cont\n",
    "        self.q_cont = q_cont\n",
    "        self.d_p, self.d_q = delta\n",
    "        self.g = g\n",
    "\n",
    "    def add_data(self, p, q):\n",
    "        diff = Diffuse(p, q, g=self.g)\n",
    "        x = np.mean(diff.repete_diffuse(), axis=0)\n",
    "        max_idx = np.argmax(x)\n",
    "        s = x[:(max_idx + 2)]\n",
    "        para_range = [[1e-6, 0.1], [1e-5, 0.8], [s, 4*self.g.number_of_nodes()]]\n",
    "        bassest = BassEstimate(s, para_range)\n",
    "        bassest.t_n = 1000\n",
    "        res = bassest.optima_search(c_n=200, threshold=10e-6)\n",
    "        return res[1:3]  # P, Q\n",
    "\n",
    "    def identify_range(self):\n",
    "        min_p, max_p = self.p_cont\n",
    "        min_q, max_q = self.q_cont\n",
    "        est_cont = [self.add_data(p, q) for p, q in [(min_p, min_q), (max_p, max_q)]]\n",
    "        i = 1\n",
    "        while True:  # P: 0.007~0.03, Q: 0.38~0.53\n",
    "            min_P, min_Q = est_cont[0]\n",
    "            max_P, max_Q = est_cont[1]\n",
    "            print(i, f'P:{min_P:.4f}~{max_P:.4f}', f'Q:{min_Q:.4f}~{max_Q:.4f}' )\n",
    "            c1, c2 = 0, 0\n",
    "            # 如果min_P大于下限，则减少min_p的下限值；另防止min_p < 0\n",
    "            if min_P > 0.0007:\n",
    "                min_p = min_p - self.d_p if min_p > self.d_p else 0.0003\n",
    "                c1 += 1\n",
    "\n",
    "            if min_Q > 0.38:  # 如果min_Q小于下限，则减少min_q的下限值\n",
    "                min_q -= self.d_q\n",
    "                c1 += 1\n",
    "\n",
    "            if max_P < 0.03:  # 如果max_P小于上限，则增加max_p的上限值\n",
    "                max_p += self.d_p\n",
    "                c2 += 1\n",
    "\n",
    "            if max_Q < 0.53:  # 如果max_Q小于上限，则增加max_q的上限值\n",
    "                max_q += self.d_q\n",
    "                c2 += 1\n",
    "\n",
    "            i += 1\n",
    "\n",
    "            if c1 + c2 != 0:  # 查看是否进行了更新\n",
    "                if c1 != 0:  # 如果min_p或者min_q更新了，则减少\n",
    "                    est_cont[0] = self.add_data(min_p, min_q)\n",
    "                if c2 != 0:  # 如果max_p或者max_q更新了，则增加\n",
    "                    est_cont[1] = self.add_data(max_p, max_q)\n",
    "            else:\n",
    "                break\n",
    "\n",
    "            if i == 20:\n",
    "                break\n",
    "\n",
    "        return {\"p_range\": [min_p, max_p], \"q_range\": [min_q, max_q],\n",
    "                \"P_range\": [min_P, max_P], \"Q_range\": [min_Q, max_Q]}\n",
    "\n",
    "    def generate_sample(self, n_p=10, n_q=20):\n",
    "        rg_p, rg_q = self.identify_range()\n",
    "        sp_cont = [(p, q) for p in np.linspace(rg_p[0], rg_p[1], n_p) \n",
    "                        for q in np.linspace(rg_q[0], rg_q[1], n_q)]\n",
    "        return sp_cont"
   ]
  },
  {
   "cell_type": "code",
   "execution_count": 5,
   "metadata": {},
   "outputs": [],
   "source": [
    "def generate_random_graph(degre_sequance):\n",
    "    G = nx.configuration_model(degre_sequance, create_using=None, seed=None)\n",
    "    G = nx.Graph(G)\n",
    "    G.remove_edges_from(G.selfloop_edges())\n",
    "    return G\n",
    "\n",
    "def func(p, q, g):\n",
    "    diff = Diffuse(p, q, g=g, num_runs=40)\n",
    "    x = np.mean(diff.repete_diffuse(), axis=0)\n",
    "    return np.concatenate(([p, q], x))"
   ]
  },
  {
   "cell_type": "code",
   "execution_count": 6,
   "metadata": {},
   "outputs": [],
   "source": [
    "expon_seq = np.load('dataSources/exponential_sequance.npy')\n",
    "gauss_seq = np.load('dataSources/gaussian_sequance.npy')\n",
    "logno_seq = np.load('dataSources/lognormal_sequance.npy')\n",
    "facebook_graph = nx.read_gpickle('dataSources/facebook.gpickle')\n",
    "epinions_graph = nx.read_gpickle('dataSources/epinions.gpickle')   \n",
    "g_cont = [nx.barabasi_albert_graph(10000, 3), generate_random_graph(expon_seq), \n",
    "          generate_random_graph(gauss_seq), nx.gnm_random_graph(10000, 100000), \n",
    "          nx.gnm_random_graph(10000, 30000), nx.gnm_random_graph(10000, 40000), \n",
    "          nx.gnm_random_graph(10000, 50000), nx.gnm_random_graph(10000, 60000),\n",
    "          nx.gnm_random_graph(10000, 70000), nx.gnm_random_graph(10000, 80000), \n",
    "          nx.gnm_random_graph(10000, 90000), generate_random_graph(logno_seq),\n",
    "          nx.watts_strogatz_graph(10000, 6, 0), nx.watts_strogatz_graph(10000, 6, 0.1),\n",
    "          nx.watts_strogatz_graph(10000, 6, 0.3), nx.watts_strogatz_graph(10000, 6, 0.5),\n",
    "          nx.watts_strogatz_graph(10000, 6, 0.7), nx.watts_strogatz_graph(10000, 6, 0.9),\n",
    "          nx.watts_strogatz_graph(10000, 6, 1),\n",
    "          facebook_graph, epinions_graph]\n",
    "\n",
    "txt_cont = ['barabasi_albert_graph(10000,3)', 'exponential_graph(10000,3)', \n",
    "            'gaussian_graph(10000,3)', 'gnm_random_graph(10000,100000)', \n",
    "            'gnm_random_graph(10000,30000)', 'gnm_random_graph(10000,40000)', \n",
    "            'gnm_random_graph(10000,50000)', 'gnm_random_graph(10000,60000)',\n",
    "            'gnm_random_graph(10000,70000)', 'gnm_random_graph(10000,80000)', \n",
    "            'gnm_random_graph(10000,90000)', 'lognormal_graph(10000,3)',\n",
    "            'watts_strogatz_graph(10000,6,0)', 'watts_strogatz_graph(10000,6,0.1)',\n",
    "            'watts_strogatz_graph(10000,6,0.3)', 'watts_strogatz_graph(10000,6,0.5)',\n",
    "            'watts_strogatz_graph(10000,6,0.7)', 'watts_strogatz_graph(10000,6,0.9)',\n",
    "            'watts_strogatz_graph(10000,6,1.0)',\n",
    "            'facebook_graph', 'epinions_graph']"
   ]
  },
  {
   "cell_type": "markdown",
   "metadata": {},
   "source": [
    "#### 确定初始边界"
   ]
  },
  {
   "cell_type": "markdown",
   "metadata": {},
   "source": [
    "(1) barabasi_albert_graph(10000,3), `p_cont = [0.0001, 0.001], q_cont = [0.03, 0.08]`\n",
    "\n",
    "(2) exponential_graph(10000,3), \n",
    "\n",
    "(3) gaussian_graph(10000,3),\n",
    "\n",
    "(4) gnm_random_graph\n",
    "\n",
    "(5) lognormal_graph(1000,3)\n",
    "\n",
    "(6) watts_strogatz_graph"
   ]
  },
  {
   "cell_type": "markdown",
   "metadata": {},
   "source": [
    "#### epinions网络分析"
   ]
  },
  {
   "cell_type": "code",
   "execution_count": 89,
   "metadata": {},
   "outputs": [],
   "source": [
    "from collections import Counter"
   ]
  },
  {
   "cell_type": "code",
   "execution_count": 7,
   "metadata": {},
   "outputs": [
    {
     "data": {
      "text/plain": [
       "(75879, 508837)"
      ]
     },
     "execution_count": 7,
     "metadata": {},
     "output_type": "execute_result"
    }
   ],
   "source": [
    "epinions_graph.number_of_nodes(), epinions_graph.number_of_edges()"
   ]
  },
  {
   "cell_type": "code",
   "execution_count": 46,
   "metadata": {},
   "outputs": [],
   "source": [
    "in_cont = epinions_graph.in_degree()\n",
    "out_cont = epinions_graph.out_degree()\n",
    "c = 0\n",
    "for key in dict(in_cont):\n",
    "    if in_cont[key] == 0 and out_cont[key] == 0:\n",
    "        c += 1"
   ]
  },
  {
   "cell_type": "code",
   "execution_count": 49,
   "metadata": {},
   "outputs": [],
   "source": [
    "inDegree = list(dict(in_cont).values())\n",
    "outDegree = list(dict(out_cont).values())"
   ]
  },
  {
   "cell_type": "code",
   "execution_count": 93,
   "metadata": {},
   "outputs": [],
   "source": [
    "in_count = Counter(inDegree)"
   ]
  },
  {
   "cell_type": "code",
   "execution_count": null,
   "metadata": {},
   "outputs": [],
   "source": [
    "in_count."
   ]
  },
  {
   "cell_type": "code",
   "execution_count": 58,
   "metadata": {},
   "outputs": [
    {
     "data": {
      "image/png": "[encoded data removed]",
      "text/plain": [
       "<Figure size 432x288 with 1 Axes>"
      ]
     },
     "metadata": {
      "needs_background": "light"
     },
     "output_type": "display_data"
    }
   ],
   "source": [
    "n, bins, patches = pl.hist(outDegree, 200, alpha=0.5, density=1)"
   ]
  },
  {
   "cell_type": "code",
   "execution_count": 59,
   "metadata": {},
   "outputs": [
    {
     "data": {
      "image/png": "[encoded data removed]",
      "text/plain": [
       "<Figure size 432x288 with 1 Axes>"
      ]
     },
     "metadata": {
      "needs_background": "light"
     },
     "output_type": "display_data"
    }
   ],
   "source": [
    "n, bins, patches = pl.hist(inDegree, 200, alpha=0.5, density=1)"
   ]
  },
  {
   "cell_type": "code",
   "execution_count": 37,
   "metadata": {},
   "outputs": [
    {
     "data": {
      "text/plain": [
       "15538"
      ]
     },
     "execution_count": 37,
     "metadata": {},
     "output_type": "execute_result"
    }
   ],
   "source": [
    "u = list(b.values())\n",
    "u.count(0)"
   ]
  },
  {
   "cell_type": "code",
   "execution_count": 60,
   "metadata": {},
   "outputs": [
    {
     "data": {
      "text/plain": [
       "-0.04128630053133649"
      ]
     },
     "execution_count": 60,
     "metadata": {},
     "output_type": "execute_result"
    }
   ],
   "source": [
    "nx.degree_assortativity_coefficient(epinions_graph)"
   ]
  },
  {
   "cell_type": "code",
   "execution_count": 26,
   "metadata": {},
   "outputs": [
    {
     "data": {
      "text/plain": [
       "0.0019651694267569164"
      ]
     },
     "execution_count": 26,
     "metadata": {},
     "output_type": "execute_result"
    }
   ],
   "source": [
    "nx.average_clustering(g_cont[3])"
   ]
  },
  {
   "cell_type": "code",
   "execution_count": 8,
   "metadata": {},
   "outputs": [
    {
     "data": {
      "text/plain": [
       "(4039, 88234)"
      ]
     },
     "execution_count": 8,
     "metadata": {},
     "output_type": "execute_result"
    }
   ],
   "source": [
    "facebook_graph.number_of_nodes(), facebook_graph.number_of_edges()"
   ]
  },
  {
   "cell_type": "code",
   "execution_count": 65,
   "metadata": {},
   "outputs": [
    {
     "name": "stdout",
     "output_type": "stream",
     "text": [
      "Time elasped:396.36s\n",
      "网络:epinions_graph\n",
      "最大采纳量410.5, 最大时间步:18\n"
     ]
    }
   ],
   "source": [
    "i = -1\n",
    "t1 = time.perf_counter()\n",
    "g = g_cont[-1]\n",
    "p, q = 0.001, 0.005\n",
    "diff = Diffuse(p, q, g, num_runs=200)\n",
    "diff_cont = diff.repete_diffuse()\n",
    "S = np.mean(diff_cont, axis=0)\n",
    "print(f\"Time elasped:{time.perf_counter()-t1:.2f}s\")\n",
    "print(f\"网络:{txt_cont[i]}\")\n",
    "print(f\"最大采纳量{np.max(S)}, 最大时间步:{np.argmax(S)}\")"
   ]
  },
  {
   "cell_type": "code",
   "execution_count": null,
   "metadata": {},
   "outputs": [],
   "source": [
    "import plotly as py\n",
    "from plotly.graph_objs import Histogram, Scatter, Layout, Data, XAxis, Figure\n",
    "import plotly.figure_factory as ff\n",
    "py.offline.init_notebook_mode()"
   ]
  },
  {
   "cell_type": "code",
   "execution_count": null,
   "metadata": {},
   "outputs": [],
   "source": [
    "x1, x2 = dataset\n",
    "\n",
    "trace0 = Scatter(\n",
    "    x = x1,\n",
    "    name='',\n",
    "    cumulative={\"enabled\":False},\n",
    "    opacity = 0.75,\n",
    "    xaxis=\"x1\")\n",
    "\n",
    "trace1 = Histogram(\n",
    "    x=x2,\n",
    "    name='',\n",
    "    histnorm='probability',\n",
    "    cumulative={\"enabled\":False},\n",
    "    opacity=0.75,\n",
    "    xaxis=\"x2\")\n",
    "\n",
    "data = [trace0, trace1]\n",
    "layout = Layout(barmode='overlay', \n",
    "                title='众筹开始至成功的时间跨度',\n",
    "                xaxis1={\"domain\": [0, 0.5], \n",
    "                        \"title\": \"绝对跨度\"}, \n",
    "                xaxis2={\"domain\": [0.5, 1], \n",
    "                        \"title\": \"相对跨度\"}\n",
    "               )\n",
    "\n",
    "fig = Figure(data=data, layout=layout)\n",
    "py.offline.iplot(fig, filename='sixth_chart.html')"
   ]
  },
  {
   "cell_type": "code",
   "execution_count": 102,
   "metadata": {},
   "outputs": [
    {
     "data": {
      "text/plain": [
       "(0.00639, 0.18876)"
      ]
     },
     "execution_count": 102,
     "metadata": {},
     "output_type": "execute_result"
    }
   ],
   "source": [
    "round(p, 5), round(q, 5)"
   ]
  },
  {
   "cell_type": "code",
   "execution_count": 100,
   "metadata": {},
   "outputs": [
    {
     "data": {
      "image/png": "[encoded data removed]",
      "text/plain": [
       "<Figure size 720x432 with 1 Axes>"
      ]
     },
     "metadata": {},
     "output_type": "display_data"
    }
   ],
   "source": [
    "fig = pl.figure(figsize=(10, 6), facecolor='grey')\n",
    "ax = fig.add_subplot(1, 1, 1)\n",
    "ax.set_xlabel(\"Steps\")\n",
    "ax.set_ylabel(\"Number of Adopters\")\n",
    "ax.plot(np.arange(1, len(S)+1), S, 'r-', lw=0.5)\n",
    "ax.scatter(np.arange(1, len(S)+1), S, s=50, marker='o', c='k')\n",
    "text = ax.text(150, 350, f\"{txt_cont[i]}\\np={p}, q={q}\\nnum_nodes={nx.number_of_nodes(g)}\\nnum_edges={nx.number_of_edges(g)}\", \n",
    "                bbox=dict(facecolor='blue', alpha=0.5))"
   ]
  },
  {
   "cell_type": "code",
   "execution_count": 88,
   "metadata": {},
   "outputs": [
    {
     "name": "stdout",
     "output_type": "stream",
     "text": [
      "Time elapsed: 0.66s\n",
      "P:0.0064   Q:0.1888   M:8126\n",
      "r^2:0.9898\n"
     ]
    }
   ],
   "source": [
    "m_idx = np.argmax(S)\n",
    "s = S[:m_idx + 2]\n",
    "t1 = time.process_time()\n",
    "para_range = [[1e-5, 0.1], [1e-5, 0.8], [sum(s), 10*sum(s)]]\n",
    "bassest = BassEstimate(s, para_range)\n",
    "mse, p, q, m = bassest.optima_search(c_n=100, threshold=10e-6)\n",
    "r_2 = bassest.r2([p, q, m])\n",
    "print(f'Time elapsed: {(time.process_time() - t1):.2f}s')\n",
    "print(f'P:{p:.4f}   Q:{q:.4f}   M:{m:.0f}\\nr^2:{r_2:.4f}')"
   ]
  },
  {
   "cell_type": "code",
   "execution_count": 95,
   "metadata": {},
   "outputs": [
    {
     "name": "stdout",
     "output_type": "stream",
     "text": [
      "gaussian_graph(10000,3)\n",
      "1 P:0.0006~0.0260 Q:0.4126~0.6235\n",
      "Exceed the maximal iteration: 100\n",
      "2 P:0.0007~0.0274 Q:0.3784~0.6301\n",
      "Exceed the maximal iteration: 100\n",
      "3 P:0.0004~0.0271 Q:0.3845~0.6201\n",
      "Exceed the maximal iteration: 100\n",
      "4 P:0.0005~0.0279 Q:0.3708~0.6240\n",
      "5 P:0.0005~0.0296 Q:0.3708~0.5975\n",
      "6 P:0.0005~0.0301 Q:0.3708~0.6142\n",
      "time: 98.83s\n"
     ]
    }
   ],
   "source": [
    "t1 = time.perf_counter()\n",
    "print(txt_cont[i])\n",
    "p_cont = (0.0004, 0.022)\n",
    "q_cont = (0.07, 0.1)\n",
    "delta = (0.0005, 0.003)\n",
    "ger_samp = Gen_para(g=g, p_cont=p_cont, q_cont=q_cont, delta=delta)\n",
    "bound = ger_samp.identify_range()\n",
    "print(f'time: {time.perf_counter() - t1:.2f}s')"
   ]
  },
  {
   "cell_type": "code",
   "execution_count": 96,
   "metadata": {},
   "outputs": [
    {
     "data": {
      "text/plain": [
       "{'p_range': [0.0003, 0.0245],\n",
       " 'q_range': [0.064, 0.1],\n",
       " 'P_range': [0.0005222022707075201, 0.030091799531446122],\n",
       " 'Q_range': [0.37081158400930625, 0.6141919385783103]}"
      ]
     },
     "execution_count": 96,
     "metadata": {},
     "output_type": "execute_result"
    }
   ],
   "source": [
    "bound"
   ]
  },
  {
   "cell_type": "code",
   "execution_count": 97,
   "metadata": {},
   "outputs": [
    {
     "data": {
      "text/plain": [
       "<pymongo.results.InsertOneResult at 0x2168d642548>"
      ]
     },
     "execution_count": 97,
     "metadata": {},
     "output_type": "execute_result"
    }
   ],
   "source": [
    "prj.insert_one({'_id':txt_cont[i], 'param_boundary':{\"ctime\": datetime.datetime.now(), **bound}})"
   ]
  },
  {
   "cell_type": "markdown",
   "metadata": {},
   "source": [
    "### watts_strogatz_graph"
   ]
  },
  {
   "cell_type": "code",
   "execution_count": 85,
   "metadata": {},
   "outputs": [
    {
     "name": "stdout",
     "output_type": "stream",
     "text": [
      "watts_strogatz_graph(10000,6,0.1)\n",
      "1 P:0.0012~0.0321 Q:0.1493~0.4328\n",
      "2 P:0.0008~0.0334 Q:0.1441~0.4450\n",
      "3 P:0.0007~0.0315 Q:0.1285~0.4634\n",
      "4 P:0.0007~0.0335 Q:0.1285~0.4908\n",
      "5 P:0.0007~0.0337 Q:0.1285~0.5351\n",
      "time: 91.92s\n",
      "watts_strogatz_graph(10000,6,0.3)\n",
      "1 P:0.0009~0.0289 Q:0.2225~0.4887\n",
      "Exceed the maximal iteration: 100\n",
      "2 P:0.0005~0.0298 Q:0.2269~0.5030\n",
      "3 P:0.0005~0.0305 Q:0.2269~0.5083\n",
      "4 P:0.0005~0.0300 Q:0.2269~0.5353\n",
      "time: 64.06s\n",
      "watts_strogatz_graph(10000,6,0.5)\n",
      "Exceed the maximal iteration: 100\n",
      "1 P:0.0007~0.0291 Q:0.2560~0.5014\n",
      "Exceed the maximal iteration: 100\n",
      "2 P:0.0004~0.0285 Q:0.2553~0.5235\n",
      "3 P:0.0004~0.0284 Q:0.2553~0.5454\n",
      "4 P:0.0004~0.0289 Q:0.2553~0.5483\n",
      "5 P:0.0004~0.0292 Q:0.2553~0.5578\n",
      "6 P:0.0004~0.0297 Q:0.2553~0.5508\n",
      "7 P:0.0004~0.0292 Q:0.2553~0.5718\n",
      "8 P:0.0004~0.0296 Q:0.2553~0.5478\n",
      "9 P:0.0004~0.0309 Q:0.2553~0.5620\n",
      "time: 85.04s\n",
      "watts_strogatz_graph(10000,6,0.7)\n",
      "1 P:0.0007~0.0273 Q:0.2736~0.5176\n",
      "2 P:0.0007~0.0283 Q:0.2736~0.5266\n",
      "3 P:0.0007~0.0278 Q:0.2736~0.5621\n",
      "4 P:0.0007~0.0281 Q:0.2736~0.5848\n",
      "5 P:0.0007~0.0286 Q:0.2736~0.5539\n",
      "6 P:0.0007~0.0289 Q:0.2736~0.5639\n",
      "7 P:0.0007~0.0286 Q:0.2736~0.5582\n",
      "8 P:0.0007~0.0291 Q:0.2736~0.5792\n",
      "9 P:0.0007~0.0294 Q:0.2736~0.5522\n",
      "10 P:0.0007~0.0300 Q:0.2736~0.5629\n",
      "time: 72.45s\n",
      "watts_strogatz_graph(10000,6,0.9)\n",
      "Exceed the maximal iteration: 100\n",
      "1 P:0.0006~0.0257 Q:0.2819~0.5214\n",
      "2 P:0.0006~0.0276 Q:0.2819~0.5345\n",
      "3 P:0.0006~0.0272 Q:0.2819~0.5462\n",
      "4 P:0.0006~0.0272 Q:0.2819~0.5430\n",
      "5 P:0.0006~0.0286 Q:0.2819~0.5292\n",
      "6 P:0.0006~0.0280 Q:0.2819~0.5826\n",
      "7 P:0.0006~0.0284 Q:0.2819~0.5543\n",
      "8 P:0.0006~0.0305 Q:0.2819~0.5636\n",
      "time: 65.03s\n",
      "watts_strogatz_graph(10000,6,1.0)\n",
      "1 P:0.0009~0.0262 Q:0.2416~0.5277\n",
      "2 P:0.0007~0.0277 Q:0.2403~0.5396\n",
      "3 P:0.0007~0.0275 Q:0.2403~0.5456\n",
      "4 P:0.0007~0.0265 Q:0.2403~0.5463\n",
      "5 P:0.0007~0.0283 Q:0.2403~0.5434\n",
      "6 P:0.0007~0.0285 Q:0.2403~0.5442\n",
      "7 P:0.0007~0.0284 Q:0.2403~0.5357\n",
      "8 P:0.0007~0.0284 Q:0.2403~0.5428\n",
      "9 P:0.0007~0.0291 Q:0.2403~0.5398\n",
      "10 P:0.0007~0.0279 Q:0.2403~0.5522\n",
      "11 P:0.0007~0.0286 Q:0.2403~0.5445\n",
      "12 P:0.0007~0.0298 Q:0.2403~0.5325\n",
      "13 P:0.0007~0.0291 Q:0.2403~0.5467\n",
      "14 P:0.0007~0.0302 Q:0.2403~0.5388\n",
      "time: 111.99s\n"
     ]
    }
   ],
   "source": [
    "for i in range(13, 19):\n",
    "    t1 = time.perf_counter()\n",
    "    print(txt_cont[i])\n",
    "    g = g_cont[i]\n",
    "    p_cont = (0.0005, 0.024)  \n",
    "    q_cont = (0.06, 0.1)  # 小心设置\n",
    "    delta = (0.0002, 0.005)\n",
    "    ger_samp = Gen_para(g=g, p_cont=p_cont, q_cont=q_cont, delta=delta)\n",
    "    bound = ger_samp.identify_range()\n",
    "    prj.update_one({'_id':txt_cont[i]}, {'$set':{'param_boundary':{\"ctime\": datetime.datetime.now(), **bound}}})\n",
    "    print(f'time: {time.perf_counter() - t1:.2f}s')"
   ]
  },
  {
   "cell_type": "code",
   "execution_count": null,
   "metadata": {},
   "outputs": [],
   "source": [
    "for x in prj.find({}, {projection={\"param_boundary.p_range\":1, \"param_boundary.q_range\":1, \"param_boundary.ctime\":1}}):\n",
    "    print(x['_id'], x['p_range'], x['q_range'])"
   ]
  },
  {
   "cell_type": "code",
   "execution_count": 79,
   "metadata": {},
   "outputs": [
    {
     "data": {
      "text/plain": [
       "{'_id': 'gnm_random_graph(10000,30000)',\n",
       " 'param_boundary': {'ctime': datetime.datetime(2018, 12, 15, 15, 48, 27, 673000),\n",
       "  'p_range': [0.0003, 0.025890000000000024],\n",
       "  'q_range': [0.056999999999999995, 0.10200000000000001],\n",
       "  'P_range': [0.00040099198571325625, 0.028546612735487212],\n",
       "  'Q_range': [0.2901573180113419, 0.5643354306957634]}}"
      ]
     },
     "execution_count": 79,
     "metadata": {},
     "output_type": "execute_result"
    }
   ],
   "source": [
    "prj.find_one({\"_id\": 'gnm_random_graph(10000,30000)'})"
   ]
  },
  {
   "cell_type": "code",
   "execution_count": 104,
   "metadata": {},
   "outputs": [
    {
     "data": {
      "text/plain": [
       "[{'_id': 'barabasi_albert_graph(10000,3)'},\n",
       " {'_id': 'exponential_graph(10000,3)'},\n",
       " {'_id': 'gnm_random_graph(10000,30000)'},\n",
       " {'_id': 'gnm_random_graph(10000,40000)'},\n",
       " {'_id': 'gnm_random_graph(10000,50000)'},\n",
       " {'_id': 'gnm_random_graph(10000,60000)'},\n",
       " {'_id': 'gnm_random_graph(10000,70000)'},\n",
       " {'_id': 'gnm_random_graph(10000,80000)'},\n",
       " {'_id': 'gnm_random_graph(10000,90000)'},\n",
       " {'_id': 'gnm_random_graph(10000,100000)'},\n",
       " {'_id': 'lognormal_graph(10000,3)'},\n",
       " {'_id': 'watts_strogatz_graph(10000,6,0)'},\n",
       " {'_id': 'watts_strogatz_graph(10000,6,0.1)'},\n",
       " {'_id': 'watts_strogatz_graph(10000,6,0.3)'},\n",
       " {'_id': 'watts_strogatz_graph(10000,6,0.5)'},\n",
       " {'_id': 'watts_strogatz_graph(10000,6,0.7)'},\n",
       " {'_id': 'watts_strogatz_graph(10000,6,0.9)'},\n",
       " {'_id': 'watts_strogatz_graph(10000,6,1.0)'},\n",
       " {'_id': 'gaussian_graph(10000,3)'}]"
      ]
     },
     "execution_count": 104,
     "metadata": {},
     "output_type": "execute_result"
    }
   ],
   "source": [
    "list(prj.find({},projection={\"_id\":1}))"
   ]
  },
  {
   "cell_type": "code",
   "execution_count": 94,
   "metadata": {},
   "outputs": [],
   "source": [
    "g = eval('nx.' + 'barabasi_albert_graph(10000,3)')"
   ]
  },
  {
   "cell_type": "code",
   "execution_count": 99,
   "metadata": {},
   "outputs": [
    {
     "data": {
      "text/plain": [
       "['barabasi_albert_graph(10000,3)',\n",
       " 'exponential_graph(10000,3)',\n",
       " 'gnm_random_graph(10000,30000)',\n",
       " 'gnm_random_graph(10000,40000)',\n",
       " 'gnm_random_graph(10000,50000)',\n",
       " 'gnm_random_graph(10000,60000)',\n",
       " 'gnm_random_graph(10000,70000)',\n",
       " 'gnm_random_graph(10000,80000)',\n",
       " 'gnm_random_graph(10000,90000)',\n",
       " 'gnm_random_graph(10000,100000)',\n",
       " 'lognormal_graph(10000,3)',\n",
       " 'watts_strogatz_graph(10000,6,0)',\n",
       " 'watts_strogatz_graph(10000,6,0.1)',\n",
       " 'watts_strogatz_graph(10000,6,0.3)',\n",
       " 'watts_strogatz_graph(10000,6,0.5)',\n",
       " 'watts_strogatz_graph(10000,6,0.7)',\n",
       " 'watts_strogatz_graph(10000,6,0.9)',\n",
       " 'watts_strogatz_graph(10000,6,1.0)',\n",
       " 'gaussian_graph(10000,3)']"
      ]
     },
     "execution_count": 99,
     "metadata": {},
     "output_type": "execute_result"
    }
   ],
   "source": [
    "txt_cont = [x['_id'] for x in prj.find({}, projection={'_id':1})]"
   ]
  }
 ],
 "metadata": {
  "kernelspec": {
   "display_name": "Python37",
   "language": "python",
   "name": "python37"
  },
  "language_info": {
   "codemirror_mode": {
    "name": "ipython",
    "version": 3
   },
   "file_extension": ".py",
   "mimetype": "text/x-python",
   "name": "python",
   "nbconvert_exporter": "python",
   "pygments_lexer": "ipython3",
   "version": "3.7.0"
  }
 },
 "nbformat": 4,
 "nbformat_minor": 2
}
