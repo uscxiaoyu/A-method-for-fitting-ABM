{
 "cells": [
  {
   "cell_type": "markdown",
   "metadata": {},
   "source": [
    "### 尝试边界"
   ]
  },
  {
   "cell_type": "code",
   "execution_count": 4,
   "metadata": {},
   "outputs": [
    {
     "name": "stdout",
     "output_type": "stream",
     "text": [
      "Populating the interactive namespace from numpy and matplotlib\n"
     ]
    }
   ],
   "source": [
    "%pylab inline\n",
    "from abmdiffuse import Diffuse\n",
    "import numpy as np\n",
    "import pylab as pl\n",
    "import networkx as nx"
   ]
  },
  {
   "cell_type": "code",
   "execution_count": 6,
   "metadata": {},
   "outputs": [],
   "source": [
    "def generate_random_graph(degre_sequance):\n",
    "    G = nx.configuration_model(degre_sequance, create_using=None, seed=None)\n",
    "    G = nx.Graph(G)\n",
    "    G.remove_edges_from(G.selfloop_edges())\n",
    "    return G\n",
    "\n",
    "def func(p, q, g):\n",
    "    diff = Diffuse(p, q, g=g, num_runs=40)\n",
    "    x = np.mean(diff.repete_diffuse(), axis=0)\n",
    "    return np.concatenate(([p, q], x))"
   ]
  },
  {
   "cell_type": "code",
   "execution_count": 7,
   "metadata": {},
   "outputs": [],
   "source": [
    "expon_seq = np.load('dataSources/exponential_sequance.npy')\n",
    "gauss_seq = np.load('dataSources/gaussian_sequance.npy')\n",
    "logno_seq = np.load('dataSources/lognormal_sequance.npy')\n",
    "g_cont = [nx.barabasi_albert_graph(10000, 3), generate_random_graph(expon_seq), generate_random_graph(gauss_seq),\n",
    "          nx.gnm_random_graph(10000, 100000), nx.gnm_ran\n",
    "          dom_graph(10000, 30000),\n",
    "          nx.gnm_random_graph(10000, 40000), nx.gnm_random_graph(10000, 50000), nx.gnm_random_graph(10000, 60000),\n",
    "          nx.gnm_random_graph(10000, 70000), nx.gnm_random_graph(10000, 80000), nx.gnm_random_graph(10000, 90000),\n",
    "          generate_random_graph(logno_seq),\n",
    "          nx.watts_strogatz_graph(10000, 6, 0), nx.watts_strogatz_graph(10000, 6, 0.1),\n",
    "          nx.watts_strogatz_graph(10000, 6, 0.3), nx.watts_strogatz_graph(10000, 6, 0.5),\n",
    "          nx.watts_strogatz_graph(10000, 6, 0.7), nx.watts_strogatz_graph(10000, 6, 0.9),\n",
    "          nx.watts_strogatz_graph(10000, 6, 1)]\n",
    "\n",
    "txt_cont = ['barabasi_albert_graph(10000,3)', 'exponential_graph(10000,3)', 'gaussian_graph(10000,3)',\n",
    "            'gnm_random_graph(10000,100000)', 'gnm_random_graph(10000,30000)',\n",
    "            'gnm_random_graph(10000,40000)', 'gnm_random_graph(10000,50000)', 'gnm_random_graph(10000,60000)',\n",
    "            'gnm_random_graph(10000,70000)', 'gnm_random_graph(10000,80000)', 'gnm_random_graph(10000,90000)',\n",
    "            'lognormal_graph(10000,3)',\n",
    "            'watts_strogatz_graph(10000,6,0)', 'watts_strogatz_graph(10000,6,0.1)',\n",
    "            'watts_strogatz_graph(10000,6,0.3)', 'watts_strogatz_graph(10000,6,0.5)',\n",
    "            'watts_strogatz_graph(10000,6,0.7)', 'watts_strogatz_graph(10000,6,0.9)',\n",
    "            'watts_strogatz_graph(10000,6,1.0)']"
   ]
  },
  {
   "cell_type": "code",
   "execution_count": null,
   "metadata": {},
   "outputs": [],
   "source": [
    "bound_dict = {}\n",
    "for j, g in enumerate(g_cont):\n",
    "    t1 = time.clock()\n",
    "    print(j+1, txt_cont[j])\n",
    "    p_cont = (0.0003, 0.02)  \n",
    "    q_cont = (0.076*3.0/(j + 4), 0.12*3.0/(j + 4))  # 小心设置\n",
    "    delta = (0.00031, 0.008*3.0/(j + 4))\n",
    "    ger_samp = Gen_para(g=g, p_cont=p_cont, q_cont=q_cont, delta=delta)\n",
    "    bound_dict[txt_cont[j]] = ger_samp.identify_range()\n",
    "    print(f'time: {time.clock() - t1:.2f}s')\n",
    "\n",
    "f = open('dataSources/bound_artinetworks.pkl', 'wb')\n",
    "pickle.dump(bound_dict, f)\n",
    "f.close()"
   ]
  },
  {
   "cell_type": "code",
   "execution_count": 21,
   "metadata": {},
   "outputs": [
    {
     "name": "stdout",
     "output_type": "stream",
     "text": [
      "Time elasped:15.95s\n",
      "最大采纳量614.8, 最大时间步:21\n"
     ]
    },
    {
     "data": {
      "text/plain": [
       "[<matplotlib.lines.Line2D at 0x1f798552b38>]"
      ]
     },
     "execution_count": 21,
     "metadata": {},
     "output_type": "execute_result"
    },
    {
     "data": {
      "image/png": "[encoded data removed]",
      "text/plain": [
       "<Figure size 432x288 with 1 Axes>"
      ]
     },
     "metadata": {
      "needs_background": "light"
     },
     "output_type": "display_data"
    }
   ],
   "source": [
    "t1 = time.perf_counter()\n",
    "g = g_cont[2]\n",
    "p, q = 0.0003, 0.05\n",
    "diff = Diffuse(p, q, g)\n",
    "diff_cont = diff.repete_diffuse()\n",
    "print(f\"Time elasped:{time.perf_counter()-t1:.2f}s\")\n",
    "x = np.mean(diff_cont, axis=0)\n",
    "print(f\"最大采纳量{np.max(x)}, 最大时间步:{np.argmax(x)}\")\n",
    "pl.plot(x)"
   ]
  },
  {
   "cell_type": "code",
   "execution_count": 17,
   "metadata": {},
   "outputs": [],
   "source": []
  }
 ],
 "metadata": {
  "kernelspec": {
   "display_name": "Python37",
   "language": "python",
   "name": "python37"
  },
  "language_info": {
   "codemirror_mode": {
    "name": "ipython",
    "version": 3
   },
   "file_extension": ".py",
   "mimetype": "text/x-python",
   "name": "python",
   "nbconvert_exporter": "python",
   "pygments_lexer": "ipython3",
   "version": "3.7.0"
  }
 },
 "nbformat": 4,
 "nbformat_minor": 2
}
