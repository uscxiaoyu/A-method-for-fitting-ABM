{
 "cells": [
  {
   "cell_type": "code",
   "execution_count": 20,
   "metadata": {},
   "outputs": [],
   "source": [
    "%matplotlib inline\n",
    "import time\n",
    "import numpy as np\n",
    "import pylab as pl\n",
    "import random\n",
    "import pickle\n",
    "from abmestimate import estimateABM"
   ]
  },
  {
   "cell_type": "code",
   "execution_count": 21,
   "metadata": {},
   "outputs": [],
   "source": [
    "f = open(\"plot_trace.txt\", 'rb')\n",
    "result = pickle.load(f)\n",
    "p0 = 0.01159\n",
    "q0 = 0.06075"
   ]
  },
  {
   "cell_type": "code",
   "execution_count": 22,
   "metadata": {},
   "outputs": [],
   "source": [
    "year = np.arange(1949, 1962)  # clothers dryers\n",
    "s = [106, 319, 492, 635, 737, 890, 1397, 1523, 1294, 1240, 1425, 1260, 1236]"
   ]
  },
  {
   "cell_type": "code",
   "execution_count": 4,
   "metadata": {},
   "outputs": [
    {
     "name": "stdout",
     "output_type": "stream",
     "text": [
      "Exceed the maximal iteration: 100\n",
      "Exceed the maximal iteration: 100\n",
      "Exceed the maximal iteration: 100\n",
      "第一阶段: 82.67秒\n",
      "    p0:0.01159, q0:0.06075\n",
      "第1轮, 新增点个数:8\n",
      "第2轮, 新增点个数:0\n",
      "第二阶段:: 122.47秒\n",
      "一共用时: 205.14秒\n",
      "R2:0.9306    num_nodes:17\n"
     ]
    }
   ],
   "source": [
    "random.seed(999)\n",
    "np.random.seed(999)\n",
    "\n",
    "year = np.arange(1949, 1962)  # clothers dryers\n",
    "s = [106, 319, 492, 635, 737, 890, 1397, 1523, 1294, 1240, 1425, 1260, 1236]\n",
    "t1 = time.perf_counter()\n",
    "est_abm = estimateABM(s, m_p=True)\n",
    "p0, q0 = est_abm.gener_init_pq()\n",
    "t2 = time.perf_counter()\n",
    "print(f\"第一阶段: {t2 - t1:.2f}秒\")\n",
    "print(f'    p0:{p0:.5f}, q0:{q0:.5f}')\n",
    "\n",
    "result = est_abm.solution_search(p0, q0)\n",
    "t3 = time.perf_counter()\n",
    "print(f'第二阶段:: {t3 - t2:.2f}秒')\n",
    "print(f'一共用时: {t3 - t1:.2f}秒')\n",
    "print(f\"R2:{result['fitness']:.4f}    num_nodes:{result['num_nodes']}\")"
   ]
  },
  {
   "cell_type": "code",
   "execution_count": 5,
   "metadata": {},
   "outputs": [
    {
     "data": {
      "text/plain": [
       "dict_keys(['params', 'fitness', 'best_curve', 'num_nodes', 'path', 'his_cond', 'his_data'])"
      ]
     },
     "execution_count": 5,
     "metadata": {},
     "output_type": "execute_result"
    }
   ],
   "source": [
    "result.keys()"
   ]
  },
  {
   "cell_type": "code",
   "execution_count": 14,
   "metadata": {},
   "outputs": [],
   "source": [
    "res_text = \"$r^2$=%.4f\\n$\\hat{p}$=%.5f\" % (result[\"fitness\"], result['params'][0])"
   ]
  },
  {
   "cell_type": "code",
   "execution_count": 17,
   "metadata": {},
   "outputs": [],
   "source": [
    "p_range = [round(p0 + i * 0.001, 4) for i in range(-6, 18)]\n",
    "q_range = [round(q0 + i * 0.005, 4) for i in range(-12, 12)]\n",
    "x, y = np.meshgrid(p_range, q_range)"
   ]
  },
  {
   "cell_type": "code",
   "execution_count": 18,
   "metadata": {},
   "outputs": [],
   "source": [
    "p_q_cont = []\n",
    "for x in result['path']:\n",
    "    p_q_cont += list(x)\n",
    "\n",
    "best_solution = tuple(result['params'][:-1])  # p, q\n",
    "his_cond = result['his_cond']"
   ]
  },
  {
   "cell_type": "code",
   "execution_count": 6,
   "metadata": {},
   "outputs": [
    {
     "name": "stdout",
     "output_type": "stream",
     "text": [
      "Estimates:[0.01109, 0.06575, 16802.068493225623], r2:0.9306286127895119, number of nodes:17\n"
     ]
    }
   ],
   "source": [
    "print(f\"Estimates:{result['params']}, r2:{result['fitness']}, number of nodes:{result['num_nodes']}\")"
   ]
  },
  {
   "cell_type": "code",
   "execution_count": 7,
   "metadata": {},
   "outputs": [],
   "source": [
    "from matplotlib.ticker import ScalarFormatter"
   ]
  },
  {
   "cell_type": "code",
   "execution_count": 19,
   "metadata": {},
   "outputs": [
    {
     "data": {
      "image/png": "[encoded data removed]",
      "text/plain": [
       "<Figure size 432x432 with 3 Axes>"
      ]
     },
     "metadata": {},
     "output_type": "display_data"
    }
   ],
   "source": [
    "pl.style.use('grayscale')\n",
    "fig = pl.figure(figsize=(10, 6))\n",
    "ax = fig.add_subplot(1, 1, 1)\n",
    "ax.set_xlabel('Year', fontsize=20)\n",
    "ax.set_ylabel('Number of Adopters', fontsize=20)\n",
    "ax.plot(year, result['best_curve'], lw=2, color='red', label='Fitted curve of the ABM')\n",
    "ax.scatter(year, s, c='grey', s=40, alpha=0.5, label='Empirical data')\n",
    "ax.xaxis.set_major_formatter(ScalarFormatter(useOffset=True))\n",
    "ax.text(1949, 1200, res_text)\n",
    "ax.grid(False)\n",
    "ax.legend(loc='upper left', fontsize=15)\n",
    "\n",
    "inset_ax1 = fig.add_axes([0.575, 0.2, 0.15, 0.25], facecolor='#FCFAF2')\n",
    "inset_ax2 = fig.add_axes([0.73, 0.2, 0.15, 0.25], facecolor='#FCFAF2')\n",
    "ax_list = [inset_ax1, inset_ax2]\n",
    "\n",
    "for i in range(len(his_cond)):\n",
    "    ax = ax_list[i]\n",
    "    pq_set = set()\n",
    "    for j in range(i+1):\n",
    "        pq_set.update(result['path'][j])\n",
    "\n",
    "    for z in pq_set:\n",
    "        if z == (p0, q0):\n",
    "            ax.scatter(z[0], z[1], s=60, c='w', edgecolors='k', marker='o', alpha=0.5)\n",
    "        elif z in his_cond[i]:\n",
    "            if z == best_solution and i == len(his_cond) - 1 :\n",
    "                ax.scatter(z[0], z[1], s=60, c='r', marker='*')\n",
    "            else:\n",
    "                ax.scatter(z[0], z[1], s=30, c='r', marker='^', alpha=1)\n",
    "        elif z in result['path'][i]:\n",
    "            ax.scatter(z[0], z[1], s=30, c='k', marker='s', alpha=1)\n",
    "        else:\n",
    "            ax.scatter(z[0], z[1], s=30, c='k', marker='s', alpha=0.2)\n",
    "\n",
    "    ax.set_xlim([0.01, 0.015])\n",
    "    ax.set_ylim([0.05, 0.08])\n",
    "    ax.set_title('Iteration %s' % (i+1), fontsize=15)\n",
    "    ax.set_xlabel('p')\n",
    "    if i == 0:\n",
    "        ax.set_ylabel('q')\n",
    "    ax.set_xticks([])\n",
    "    ax.set_yticks([])"
   ]
  },
  {
   "cell_type": "code",
   "execution_count": 12,
   "metadata": {},
   "outputs": [
    {
     "data": {
      "text/plain": [
       "['default',\n",
       " 'classic',\n",
       " 'Solarize_Light2',\n",
       " '_classic_test',\n",
       " 'bmh',\n",
       " 'dark_background',\n",
       " 'fast',\n",
       " 'fivethirtyeight',\n",
       " 'ggplot',\n",
       " 'grayscale',\n",
       " 'seaborn',\n",
       " 'seaborn-bright',\n",
       " 'seaborn-colorblind',\n",
       " 'seaborn-dark',\n",
       " 'seaborn-dark-palette',\n",
       " 'seaborn-darkgrid',\n",
       " 'seaborn-deep',\n",
       " 'seaborn-muted',\n",
       " 'seaborn-notebook',\n",
       " 'seaborn-paper',\n",
       " 'seaborn-pastel',\n",
       " 'seaborn-poster',\n",
       " 'seaborn-talk',\n",
       " 'seaborn-ticks',\n",
       " 'seaborn-white',\n",
       " 'seaborn-whitegrid',\n",
       " 'tableau-colorblind10']"
      ]
     },
     "execution_count": 12,
     "metadata": {},
     "output_type": "execute_result"
    }
   ],
   "source": [
    "style_list = ['default', 'classic'] + sorted(\n",
    "        style for style in pl.style.available if style != 'classic')\n",
    "style_list"
   ]
  },
  {
   "cell_type": "code",
   "execution_count": null,
   "metadata": {},
   "outputs": [],
   "source": []
  }
 ],
 "metadata": {
  "file_extension": ".py",
  "kernelspec": {
   "display_name": "Python 3",
   "language": "python",
   "name": "python3"
  },
  "language_info": {
   "codemirror_mode": {
    "name": "ipython",
    "version": 3
   },
   "file_extension": ".py",
   "mimetype": "text/x-python",
   "name": "python",
   "nbconvert_exporter": "python",
   "pygments_lexer": "ipython3",
   "version": "3.6.7"
  },
  "mimetype": "text/x-python",
  "name": "python",
  "npconvert_exporter": "python",
  "pygments_lexer": "ipython3",
  "version": 3
 },
 "nbformat": 4,
 "nbformat_minor": 2
}
