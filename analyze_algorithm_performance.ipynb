{
 "cells": [
  {
   "cell_type": "code",
   "execution_count": 1,
   "source": [
    "import time\r\n",
    "import numpy as np\r\n",
    "from bson import ObjectId\r\n",
    "from pymongo import MongoClient\r\n",
    "client = MongoClient('106.14.27.147')\r\n",
    "db = client.abmDiffusion\r\n",
    "proj = db.compaAlgorithms"
   ],
   "outputs": [],
   "metadata": {}
  },
  {
   "cell_type": "code",
   "execution_count": 2,
   "source": [
    "res = list(proj.find({}, projection={'algorithm': True, 'res': True, \"num_grids\": True}))"
   ],
   "outputs": [],
   "metadata": {}
  },
  {
   "cell_type": "code",
   "execution_count": 3,
   "source": [
    "res_dict = {}\r\n",
    "for item in res:\r\n",
    "    if item[\"algorithm\"] in res_dict:\r\n",
    "        res_dict[item[\"algorithm\"]].append(item[\"res\"])\r\n",
    "    else:\r\n",
    "        res_dict[item[\"algorithm\"]] = [item[\"res\"]]"
   ],
   "outputs": [],
   "metadata": {}
  },
  {
   "cell_type": "code",
   "execution_count": 5,
   "source": [
    "res_dict.keys()"
   ],
   "outputs": [
    {
     "output_type": "execute_result",
     "data": {
      "text/plain": [
       "dict_keys(['GS-0', 'GA-0', 'GA-1', 'GS-1'])"
      ]
     },
     "metadata": {},
     "execution_count": 5
    }
   ],
   "metadata": {}
  },
  {
   "cell_type": "code",
   "execution_count": 4,
   "source": [
    "for key in res_dict:\r\n",
    "    print(key)\r\n",
    "    print([round(x, 5) for x in np.mean(res_dict[key], axis=0)])\r\n",
    "    print([round(x, 5) for x in np.std(res_dict[key], axis=0)])"
   ],
   "outputs": [
    {
     "output_type": "stream",
     "name": "stdout",
     "text": [
      "GS-0\n",
      "[0.93198, 116.62114, 0.012, 0.0601, 17768.27942]\n",
      "[0.0, 0.0, 0.0, 0.0, 0.0]\n",
      "GA-0\n",
      "[0.91289, 131.6409, 0.01212, 0.06237, 17240.88761]\n",
      "[0.01267, 9.39774, 0.00138, 0.00583, 1017.65311]\n",
      "GA-1\n",
      "[0.91938, 126.94048, 0.01175, 0.06167, 17405.14437]\n",
      "[0.00291, 2.31542, 0.00086, 0.00256, 345.3632]\n",
      "GS-1\n",
      "[0.92381, 123.3824, 0.01203, 0.06114, 17452.58816]\n",
      "[0.00414, 3.42431, 0.00064, 0.00274, 551.36165]\n",
      "HC-0\n",
      "[0.54633, 269.24535, 0.01857, 0.11441, 17593.4986]\n",
      "[0.36828, 134.97749, 0.01488, 0.13989, 1737.68798]\n"
     ]
    }
   ],
   "metadata": {}
  },
  {
   "cell_type": "code",
   "execution_count": 7,
   "source": [
    "num_points = []\r\n",
    "for item in proj.find({'algorithm': 'HC-0'}, projection={'algorithm': True, 'res': True, \"num_grids\": True}):\r\n",
    "    num_points.append(item[\"num_grids\"])"
   ],
   "outputs": [],
   "metadata": {}
  },
  {
   "cell_type": "code",
   "execution_count": 8,
   "source": [
    "np.mean(num_points, axis=0), np.std(num_points, axis=0)"
   ],
   "outputs": [
    {
     "output_type": "execute_result",
     "data": {
      "text/plain": [
       "(328.8, 160.8283557088115)"
      ]
     },
     "metadata": {},
     "execution_count": 8
    }
   ],
   "metadata": {}
  },
  {
   "cell_type": "code",
   "execution_count": 10,
   "source": [
    "for item in proj.find({'algorithm': 'GA-1'}, projection={'algorithm': True, 'res': True, \"num_grids\": True}):\r\n",
    "    print(item)"
   ],
   "outputs": [
    {
     "output_type": "stream",
     "name": "stdout",
     "text": [
      "{'_id': ObjectId('615c575a69bad3747b7875e8'), 'algorithm': 'GA-1', 'res': [0.9202856299294159, 126.24928019078212, 0.012309736475861343, 0.059658301732142704, 17642.725858616268]}\n",
      "{'_id': ObjectId('615c833c69bad3747b7875e9'), 'algorithm': 'GA-1', 'res': [0.9168539123582219, 128.9381725950637, 0.011609420099067149, 0.06421452155755934, 16863.401549277438]}\n",
      "{'_id': ObjectId('615cae9e69bad3747b7875ea'), 'algorithm': 'GA-1', 'res': [0.9176189498143841, 128.34361372980098, 0.01226296396905563, 0.060436502286250346, 17592.320579184587]}\n",
      "{'_id': ObjectId('615cda9769bad3747b7875eb'), 'algorithm': 'GA-1', 'res': [0.9225798167433553, 124.41928432700786, 0.011945360328625698, 0.059787451180678845, 17789.17692085706]}\n",
      "{'_id': ObjectId('615d067969bad3747b7875ec'), 'algorithm': 'GA-1', 'res': [0.9198548701590783, 126.5899329488237, 0.010589904780253243, 0.06348808167687989, 17280.94526415622]}\n",
      "{'_id': ObjectId('615d349269bad3747b7875ed'), 'algorithm': 'GA-1', 'res': [0.9261462774574588, 121.51973021000502, 0.011695429585002137, 0.0605435133523192, 17545.961561896755]}\n",
      "{'_id': ObjectId('615d61c869bad3747b7875ee'), 'algorithm': 'GA-1', 'res': [0.9164728199586927, 129.23332287517997, 0.011390464941564586, 0.062033419225651046, 17356.48744441918]}\n",
      "{'_id': ObjectId('615d8d3b69bad3747b7875ef'), 'algorithm': 'GA-1', 'res': [0.9163701851767447, 129.312696810075, 0.010451407635497104, 0.06552267363372241, 17106.144110530397]}\n",
      "{'_id': ObjectId('615db7d369bad3747b7875f0'), 'algorithm': 'GA-1', 'res': [0.9187629643488031, 127.44935302847495, 0.013624948053479776, 0.056777739018667964, 17952.52365762171]}\n",
      "{'_id': ObjectId('615de3fd69bad3747b7875f1'), 'algorithm': 'GA-1', 'res': [0.9188902729006964, 127.34944936857062, 0.011614049609795434, 0.06422287522737077, 16921.75676430928]}\n"
     ]
    }
   ],
   "metadata": {}
  },
  {
   "cell_type": "code",
   "execution_count": null,
   "source": [],
   "outputs": [],
   "metadata": {}
  }
 ],
 "metadata": {
  "orig_nbformat": 4,
  "language_info": {
   "name": "python",
   "version": "3.7.11",
   "mimetype": "text/x-python",
   "codemirror_mode": {
    "name": "ipython",
    "version": 3
   },
   "pygments_lexer": "ipython3",
   "nbconvert_exporter": "python",
   "file_extension": ".py"
  },
  "kernelspec": {
   "name": "python3",
   "display_name": "Python 3.7.11 64-bit ('base': conda)"
  },
  "interpreter": {
   "hash": "ecf5722fdaf1897a315d257d89d94520bfcaa453217d5becf09b39e73618b0de"
  }
 },
 "nbformat": 4,
 "nbformat_minor": 2
}