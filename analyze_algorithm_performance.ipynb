{
 "cells": [
  {
   "cell_type": "code",
   "execution_count": 1,
   "source": [
    "import time\r\n",
    "import numpy as np\r\n",
    "from bson import ObjectId\r\n",
    "from pymongo import MongoClient\r\n",
    "client = MongoClient('106.14.27.147')\r\n",
    "db = client.abmDiffusion\r\n",
    "proj = db.compaAlgorithms"
   ],
   "outputs": [],
   "metadata": {}
  },
  {
   "cell_type": "code",
   "execution_count": 2,
   "source": [
    "res = list(proj.find({}, projection={'algorithm': True, 'res': True, \"num_grids\": True}))"
   ],
   "outputs": [],
   "metadata": {}
  },
  {
   "cell_type": "code",
   "execution_count": 4,
   "source": [
    "res_dict = {}\r\n",
    "for item in res:\r\n",
    "    if item[\"algorithm\"] in res_dict:\r\n",
    "        res_dict[item[\"algorithm\"]].append(item[\"res\"])\r\n",
    "    else:\r\n",
    "        res_dict[item[\"algorithm\"]] = [item[\"res\"]]"
   ],
   "outputs": [],
   "metadata": {}
  },
  {
   "cell_type": "code",
   "execution_count": 5,
   "source": [
    "res_dict.keys()"
   ],
   "outputs": [
    {
     "output_type": "execute_result",
     "data": {
      "text/plain": [
       "dict_keys(['GS-0', 'GA-0', 'GA-1', 'GS-1'])"
      ]
     },
     "metadata": {},
     "execution_count": 5
    }
   ],
   "metadata": {}
  },
  {
   "cell_type": "code",
   "execution_count": 9,
   "source": [
    "for key in res_dict:\r\n",
    "    print(key)\r\n",
    "    print([round(x, 5) for x in np.mean(res_dict[key], axis=0)])\r\n",
    "    print([round(x, 5) for x in np.std(res_dict[key], axis=0)])"
   ],
   "outputs": [
    {
     "output_type": "stream",
     "name": "stdout",
     "text": [
      "GS-0\n",
      "[0.93198, 116.62114, 0.012, 0.0601, 17768.27942]\n",
      "[0.0, 0.0, 0.0, 0.0, 0.0]\n",
      "GA-0\n",
      "[0.91289, 131.6409, 0.01212, 0.06237, 17240.88761]\n",
      "[0.01267, 9.39774, 0.00138, 0.00583, 1017.65311]\n",
      "GA-1\n",
      "[0.91952, 126.82575, 0.01153, 0.06196, 17397.14541]\n",
      "[0.00324, 2.57586, 0.00065, 0.00208, 287.00128]\n",
      "GS-1\n",
      "[0.92381, 123.3824, 0.01203, 0.06114, 17452.58816]\n",
      "[0.00414, 3.42431, 0.00064, 0.00274, 551.36165]\n"
     ]
    }
   ],
   "metadata": {}
  },
  {
   "cell_type": "code",
   "execution_count": null,
   "source": [],
   "outputs": [],
   "metadata": {}
  }
 ],
 "metadata": {
  "orig_nbformat": 4,
  "language_info": {
   "name": "python",
   "version": "3.7.11",
   "mimetype": "text/x-python",
   "codemirror_mode": {
    "name": "ipython",
    "version": 3
   },
   "pygments_lexer": "ipython3",
   "nbconvert_exporter": "python",
   "file_extension": ".py"
  },
  "kernelspec": {
   "name": "python3",
   "display_name": "Python 3.7.11 64-bit ('base': conda)"
  },
  "interpreter": {
   "hash": "ecf5722fdaf1897a315d257d89d94520bfcaa453217d5becf09b39e73618b0de"
  }
 },
 "nbformat": 4,
 "nbformat_minor": 2
}