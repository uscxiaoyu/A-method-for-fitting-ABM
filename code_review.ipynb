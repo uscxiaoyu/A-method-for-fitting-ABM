{
 "cells": [
  {
   "cell_type": "markdown",
   "source": [
    "## 1. Differential equation-based model (Bass model)"
   ],
   "metadata": {}
  },
  {
   "cell_type": "code",
   "execution_count": 1,
   "source": [
    "%config InlineBackend.figure_formats = ['svg']\n",
    "%matplotlib inline\n",
    "import numpy as np\n",
    "import matplotlib.pyplot as plt\n",
    "from scipy.optimize import minimize\n",
    "import time\n",
    "from functools import partial"
   ],
   "outputs": [],
   "metadata": {}
  },
  {
   "cell_type": "code",
   "execution_count": 2,
   "source": [
    "def dem(params):\n",
    "    '''\n",
    "    differential equation-based model\n",
    "    '''\n",
    "    p, q, m, T = params\n",
    "    t_list = np.arange(1, T + 1)\n",
    "    a = 1 - np.exp(-(p + q) * t_list)\n",
    "    b = 1 + q / p * np.exp(-(p + q) * t_list)\n",
    "    diffu_cont = m * a / b\n",
    "    adopt_cont = np.array(\n",
    "        [diffu_cont[i] if i == 0 else diffu_cont[i] - diffu_cont[i - 1] for i in range(T)]\n",
    "    )\n",
    "    return adopt_cont"
   ],
   "outputs": [],
   "metadata": {}
  },
  {
   "cell_type": "code",
   "execution_count": 3,
   "source": [
    "def calcu_mse(params, s):  # mean squared error\n",
    "    '''\n",
    "    calculate the mean squared error between the output of dem and empirical data\n",
    "    '''\n",
    "    p, q, m = params\n",
    "    a = dem([p, q, m, len(s)])\n",
    "    sse = np.sum(np.square(s - a))\n",
    "    return np.sqrt(sse) / len(s)  # 均方误"
   ],
   "outputs": [],
   "metadata": {}
  },
  {
   "cell_type": "code",
   "execution_count": 4,
   "source": [
    "def calcu_r2(estimates, s):\n",
    "    '''\n",
    "    calculate the r2 for the fit\n",
    "    '''\n",
    "    s_hat = dem(params=(*estimates, len(s)))\n",
    "    tse = np.sum(np.square(s - s_hat))\n",
    "    mean_y = np.mean(s)\n",
    "    ssl = np.sum(np.square(s - mean_y))\n",
    "    R_2 = (ssl - tse) / ssl\n",
    "    return round(R_2, 5)"
   ],
   "outputs": [],
   "metadata": {}
  },
  {
   "cell_type": "code",
   "execution_count": 5,
   "source": [
    "def fit_dem(s):\n",
    "    '''\n",
    "    fit empirical data with dem\n",
    "    '''\n",
    "    mse = partial(calcu_mse, s=s)  # fix the s\n",
    "    candidate_sols = []\n",
    "    for i in range(10):  # repeate the estimation to increate the probability of getting the optimal estimates\n",
    "        p0, q0, m0 = 0.01 * np.random.rand(), 0.4 * np.random.rand(), 2*np.sum(s)  # randomly set the initial values\n",
    "        try:\n",
    "            res = minimize(mse, (p0, q0, m0), method='nelder-mead', options={'xatol': 1e-6})\n",
    "            candidate_sols.append([res.fun, res.x])\n",
    "        except Exception as e:\n",
    "            print(e)\n",
    "\n",
    "    func_value, estimates = sorted(candidate_sols, key=lambda x: x[0])[0]\n",
    "    r2 = calcu_r2(estimates, s)\n",
    "    return r2, estimates"
   ],
   "outputs": [],
   "metadata": {}
  },
  {
   "cell_type": "code",
   "execution_count": 6,
   "source": [
    "data_set = {\n",
    "    \"room air conditioners\": (\n",
    "        np.arange(1949, 1962),\n",
    "        [96, 195, 238, 380, 1045, 1230, 1267, 1828, 1586, 1673, 1800, 1580, 1500],\n",
    "    ),\n",
    "    \"color televisions\": (np.arange(1963, 1971), [747, 1480, 2646, 5118, 5777, 5982, 5962, 4631]),\n",
    "    \"clothers dryers\": (\n",
    "        np.arange(1949, 1962),\n",
    "        [106, 319, 492, 635, 737, 890, 1397, 1523, 1294, 1240, 1425, 1260, 1236],\n",
    "    ),\n",
    "    \"ultrasound\": (np.arange(1965, 1979), [5, 3, 2, 5, 7, 12, 6, 16, 16, 28, 28, 21, 13, 6]),\n",
    "    \"mammography\": (np.arange(1965, 1979), [2, 2, 2, 3, 4, 9, 7, 16, 23, 24, 15, 6, 5, 1]),\n",
    "    \"foreign language\": (\n",
    "        np.arange(1952, 1964),\n",
    "        [1.25, 0.77, 0.86, 0.48, 1.34, 3.56, 3.36, 6.24, 5.95, 6.24, 4.89, 0.25],\n",
    "    ),\n",
    "    \"accelerated program\": (\n",
    "        np.arange(1952, 1964),\n",
    "        [0.67, 0.48, 2.11, 0.29, 2.59, 2.21, 16.80, 11.04, 14.40, 6.43, 6.15, 1.15],\n",
    "    ),\n",
    "}"
   ],
   "outputs": [],
   "metadata": {}
  },
  {
   "cell_type": "code",
   "execution_count": 7,
   "source": [
    "s = data_set[\"color televisions\"][1]  # empirical data\n",
    "r2, estimates = fit_dem(s)\n",
    "print(f\"r2: {r2}\\nestimates: p={estimates[0]:.5f}, q={estimates[1]:.5f}, m={estimates[2]:.1f},\")"
   ],
   "outputs": [
    {
     "output_type": "stream",
     "name": "stdout",
     "text": [
      "r2: 0.9695\n",
      "estimates: p=0.01847, q=0.61586, m=39658.6,\n"
     ]
    }
   ],
   "metadata": {}
  },
  {
   "cell_type": "code",
   "execution_count": 8,
   "source": [
    "plt.plot(np.arange(len(s)), dem([*estimates, len(s)]), 'r-')\n",
    "plt.scatter(np.arange(len(s)), s, c='grey', alpha=0.5, s=40)"
   ],
   "outputs": [
    {
     "output_type": "execute_result",
     "data": {
      "text/plain": [
       "<matplotlib.collections.PathCollection at 0x7f5ab93dedf0>"
      ]
     },
     "metadata": {},
     "execution_count": 8
    },
    {
     "output_type": "display_data",
     "data": {
      "image/svg+xml": "<?xml version=\"1.0\" encoding=\"utf-8\" standalone=\"no\"?>\n<!DOCTYPE svg PUBLIC \"-//W3C//DTD SVG 1.1//EN\"\n  \"http://www.w3.org/Graphics/SVG/1.1/DTD/svg11.dtd\">\n<!-- Created with matplotlib (https://matplotlib.org/) -->\n<svg height=\"246.965pt\" version=\"1.1\" viewBox=\"0 0 376.2 246.965\" width=\"376.2pt\" xmlns=\"http://www.w3.org/2000/svg\" xmlns:xlink=\"http://www.w3.org/1999/xlink\">\n <metadata>\n  <rdf:RDF xmlns:cc=\"http://creativecommons.org/ns#\" xmlns:dc=\"http://purl.org/dc/elements/1.1/\" xmlns:rdf=\"http://www.w3.org/1999/02/22-rdf-syntax-ns#\">\n   <cc:Work>\n    <dc:type rdf:resource=\"http://purl.org/dc/dcmitype/StillImage\"/>\n    <dc:date>2021-09-27T09:39:47.578041</dc:date>\n    <dc:format>image/svg+xml</dc:format>\n    <dc:creator>\n     <cc:Agent>\n      <dc:title>Matplotlib v3.3.4, https://matplotlib.org/</dc:title>\n     </cc:Agent>\n    </dc:creator>\n   </cc:Work>\n  </rdf:RDF>\n </metadata>\n <defs>\n  <style type=\"text/css\">*{stroke-linecap:butt;stroke-linejoin:round;}</style>\n </defs>\n <g id=\"figure_1\">\n  <g id=\"patch_1\">\n   <path d=\"M 0 246.965 \nL 376.2 246.965 \nL 376.2 0 \nL 0 0 \nz\n\" style=\"fill:none;\"/>\n  </g>\n  <g id=\"axes_1\">\n   <g id=\"patch_2\">\n    <path d=\"M 34.2 224.64 \nL 369 224.64 \nL 369 7.2 \nL 34.2 7.2 \nz\n\" style=\"fill:#ffffff;\"/>\n   </g>\n   <g id=\"PathCollection_1\">\n    <defs>\n     <path d=\"M 0 3.162278 \nC 0.838646 3.162278 1.643056 2.82908 2.236068 2.236068 \nC 2.82908 1.643056 3.162278 0.838646 3.162278 0 \nC 3.162278 -0.838646 2.82908 -1.643056 2.236068 -2.236068 \nC 1.643056 -2.82908 0.838646 -3.162278 0 -3.162278 \nC -0.838646 -3.162278 -1.643056 -2.82908 -2.236068 -2.236068 \nC -2.82908 -1.643056 -3.162278 -0.838646 -3.162278 0 \nC -3.162278 0.838646 -2.82908 1.643056 -2.236068 2.236068 \nC -1.643056 2.82908 -0.838646 3.162278 0 3.162278 \nz\n\" id=\"m4bf6af360d\" style=\"stroke:#808080;stroke-opacity:0.5;\"/>\n    </defs>\n    <g clip-path=\"url(#p94d919661d)\">\n     <use style=\"fill:#808080;fill-opacity:0.5;stroke:#808080;stroke-opacity:0.5;\" x=\"49.418182\" xlink:href=\"#m4bf6af360d\" y=\"214.756364\"/>\n     <use style=\"fill:#808080;fill-opacity:0.5;stroke:#808080;stroke-opacity:0.5;\" x=\"92.898701\" xlink:href=\"#m4bf6af360d\" y=\"189.230916\"/>\n     <use style=\"fill:#808080;fill-opacity:0.5;stroke:#808080;stroke-opacity:0.5;\" x=\"136.379221\" xlink:href=\"#m4bf6af360d\" y=\"148.626999\"/>\n     <use style=\"fill:#808080;fill-opacity:0.5;stroke:#808080;stroke-opacity:0.5;\" x=\"179.85974\" xlink:href=\"#m4bf6af360d\" y=\"62.543908\"/>\n     <use style=\"fill:#808080;fill-opacity:0.5;stroke:#808080;stroke-opacity:0.5;\" x=\"223.34026\" xlink:href=\"#m4bf6af360d\" y=\"39.595381\"/>\n     <use style=\"fill:#808080;fill-opacity:0.5;stroke:#808080;stroke-opacity:0.5;\" x=\"266.820779\" xlink:href=\"#m4bf6af360d\" y=\"32.456614\"/>\n     <use style=\"fill:#808080;fill-opacity:0.5;stroke:#808080;stroke-opacity:0.5;\" x=\"310.301299\" xlink:href=\"#m4bf6af360d\" y=\"33.153079\"/>\n     <use style=\"fill:#808080;fill-opacity:0.5;stroke:#808080;stroke-opacity:0.5;\" x=\"353.781818\" xlink:href=\"#m4bf6af360d\" y=\"79.502834\"/>\n    </g>\n   </g>\n   <g id=\"matplotlib.axis_1\">\n    <g id=\"xtick_1\">\n     <g id=\"line2d_1\">\n      <defs>\n       <path d=\"M 0 0 \nL 0 3.5 \n\" id=\"me494a47d49\" style=\"stroke:#000000;stroke-width:0.8;\"/>\n      </defs>\n      <g>\n       <use style=\"stroke:#000000;stroke-width:0.8;\" x=\"49.418182\" xlink:href=\"#me494a47d49\" y=\"224.64\"/>\n      </g>\n     </g>\n     <g id=\"text_1\">\n      <!-- 0 -->\n      <g transform=\"translate(46.918182 238.515)scale(0.1 -0.1)\">\n       <defs>\n        <path d=\"M 3.125 29.296875 \nQ 3.90625 50 6.4375 56.046875 \nQ 8.984375 62.109375 13.671875 66.015625 \nQ 18.359375 69.921875 25.1875 69.921875 \nQ 32.03125 69.921875 37.109375 64.25 \nQ 42.1875 58.59375 43.75 50 \nQ 45.3125 41.40625 44.71875 30.265625 \nQ 44.140625 19.140625 40.8125 12.109375 \nQ 37.5 5.078125 30.859375 2.34375 \nQ 24.21875 -0.390625 17.578125 2.921875 \nQ 10.9375 6.25 8.203125 11.71875 \nQ 5.46875 17.1875 4.296875 23.234375 \nQ 3.125 29.296875 3.90625 50 \nz\nM 12.890625 52.734375 \nQ 10.546875 31.25 12.5 22.84375 \nQ 14.453125 14.453125 18.9375 10.9375 \nQ 23.4375 7.421875 28.125 9.5625 \nQ 32.8125 11.71875 34.953125 18.15625 \nQ 37.109375 24.609375 37.109375 32.21875 \nQ 37.109375 39.84375 36.515625 46.09375 \nQ 35.9375 52.34375 33 57.421875 \nQ 30.078125 62.5 25.1875 62.6875 \nQ 20.3125 62.890625 16.59375 57.8125 \nQ 12.890625 52.734375 10.546875 31.25 \nz\n\" id=\"SimHei-48\"/>\n       </defs>\n       <use xlink:href=\"#SimHei-48\"/>\n      </g>\n     </g>\n    </g>\n    <g id=\"xtick_2\">\n     <g id=\"line2d_2\">\n      <g>\n       <use style=\"stroke:#000000;stroke-width:0.8;\" x=\"92.898701\" xlink:href=\"#me494a47d49\" y=\"224.64\"/>\n      </g>\n     </g>\n     <g id=\"text_2\">\n      <!-- 1 -->\n      <g transform=\"translate(90.398701 238.515)scale(0.1 -0.1)\">\n       <defs>\n        <path d=\"M 21.875 56.25 \nQ 16.796875 51.171875 8.984375 46.484375 \nL 8.984375 53.90625 \nQ 18.75 60.546875 25 69.53125 \nL 29.6875 69.53125 \nL 29.6875 2.34375 \nL 21.875 2.34375 \nz\n\" id=\"SimHei-49\"/>\n       </defs>\n       <use xlink:href=\"#SimHei-49\"/>\n      </g>\n     </g>\n    </g>\n    <g id=\"xtick_3\">\n     <g id=\"line2d_3\">\n      <g>\n       <use style=\"stroke:#000000;stroke-width:0.8;\" x=\"136.379221\" xlink:href=\"#me494a47d49\" y=\"224.64\"/>\n      </g>\n     </g>\n     <g id=\"text_3\">\n      <!-- 2 -->\n      <g transform=\"translate(133.879221 238.515)scale(0.1 -0.1)\">\n       <defs>\n        <path d=\"M 4.6875 3.90625 \nQ 5.078125 9.765625 10.15625 14.453125 \nQ 15.234375 19.140625 23.046875 29.09375 \nQ 30.859375 39.0625 33.203125 44.53125 \nQ 35.546875 50 34.953125 53.90625 \nQ 34.375 57.8125 31.25 60.34375 \nQ 28.125 62.890625 24.015625 62.5 \nQ 19.921875 62.109375 16.203125 59.375 \nQ 12.5 56.640625 10.546875 51.171875 \nL 3.125 52.34375 \nQ 6.25 61.328125 11.125 65.421875 \nQ 16.015625 69.53125 22.65625 69.921875 \nQ 26.5625 70.3125 29.6875 69.71875 \nQ 32.8125 69.140625 36.125 66.984375 \nQ 39.453125 64.84375 41.59375 60.546875 \nQ 43.75 56.25 43.15625 50.1875 \nQ 42.578125 44.140625 37.109375 35.734375 \nQ 31.640625 27.34375 16.015625 9.375 \nL 44.140625 9.375 \nL 44.140625 2.34375 \nL 4.6875 2.34375 \nz\n\" id=\"SimHei-50\"/>\n       </defs>\n       <use xlink:href=\"#SimHei-50\"/>\n      </g>\n     </g>\n    </g>\n    <g id=\"xtick_4\">\n     <g id=\"line2d_4\">\n      <g>\n       <use style=\"stroke:#000000;stroke-width:0.8;\" x=\"179.85974\" xlink:href=\"#me494a47d49\" y=\"224.64\"/>\n      </g>\n     </g>\n     <g id=\"text_4\">\n      <!-- 3 -->\n      <g transform=\"translate(177.35974 238.515)scale(0.1 -0.1)\">\n       <defs>\n        <path d=\"M 3.90625 19.140625 \nL 10.9375 20.3125 \nQ 12.5 15.234375 16.015625 11.90625 \nQ 19.53125 8.59375 24.796875 8.78125 \nQ 30.078125 8.984375 33.203125 13.078125 \nQ 36.328125 17.1875 35.9375 22.453125 \nQ 35.546875 27.734375 31.828125 30.65625 \nQ 28.125 33.59375 19.921875 34.765625 \nL 19.921875 39.84375 \nQ 28.125 40.625 31.828125 44.140625 \nQ 35.546875 47.65625 35.15625 53.3125 \nQ 34.765625 58.984375 30.078125 61.515625 \nQ 25.390625 64.0625 20.109375 62.109375 \nQ 14.84375 60.15625 11.71875 51.171875 \nL 4.6875 52.34375 \nQ 7.03125 59.375 11.125 64.0625 \nQ 15.234375 68.75 22.265625 69.53125 \nQ 29.296875 70.3125 34.5625 67.765625 \nQ 39.84375 65.234375 41.984375 59.953125 \nQ 44.140625 54.6875 42.578125 48.4375 \nQ 41.015625 42.1875 33.59375 37.5 \nQ 39.0625 35.15625 41.984375 30.46875 \nQ 44.921875 25.78125 43.9375 18.15625 \nQ 42.96875 10.546875 37.109375 5.859375 \nQ 31.25 1.171875 23.828125 1.359375 \nQ 16.40625 1.5625 10.9375 6.046875 \nQ 5.46875 10.546875 3.90625 19.140625 \nz\n\" id=\"SimHei-51\"/>\n       </defs>\n       <use xlink:href=\"#SimHei-51\"/>\n      </g>\n     </g>\n    </g>\n    <g id=\"xtick_5\">\n     <g id=\"line2d_5\">\n      <g>\n       <use style=\"stroke:#000000;stroke-width:0.8;\" x=\"223.34026\" xlink:href=\"#me494a47d49\" y=\"224.64\"/>\n      </g>\n     </g>\n     <g id=\"text_5\">\n      <!-- 4 -->\n      <g transform=\"translate(220.84026 238.515)scale(0.1 -0.1)\">\n       <defs>\n        <path d=\"M 31.25 17.1875 \nL 1.171875 17.1875 \nL 1.171875 23.828125 \nL 32.8125 69.53125 \nL 38.671875 69.53125 \nL 38.671875 23.828125 \nL 48.046875 23.828125 \nL 48.046875 17.1875 \nL 38.671875 17.1875 \nL 38.671875 2.34375 \nL 31.25 2.34375 \nz\nM 31.25 23.828125 \nL 31.25 54.6875 \nL 9.375 23.828125 \nz\n\" id=\"SimHei-52\"/>\n       </defs>\n       <use xlink:href=\"#SimHei-52\"/>\n      </g>\n     </g>\n    </g>\n    <g id=\"xtick_6\">\n     <g id=\"line2d_6\">\n      <g>\n       <use style=\"stroke:#000000;stroke-width:0.8;\" x=\"266.820779\" xlink:href=\"#me494a47d49\" y=\"224.64\"/>\n      </g>\n     </g>\n     <g id=\"text_6\">\n      <!-- 5 -->\n      <g transform=\"translate(264.320779 238.515)scale(0.1 -0.1)\">\n       <defs>\n        <path d=\"M 8.59375 20.703125 \nQ 11.328125 10.15625 17.96875 8.984375 \nQ 24.609375 7.8125 28.703125 10.34375 \nQ 32.8125 12.890625 34.5625 16.984375 \nQ 36.328125 21.09375 36.125 26.171875 \nQ 35.9375 31.25 33.390625 34.765625 \nQ 30.859375 38.28125 26.953125 39.453125 \nQ 23.046875 40.625 18.15625 39.453125 \nQ 13.28125 38.28125 10.15625 33.984375 \nL 3.515625 34.765625 \nQ 4.296875 37.109375 10.9375 68.359375 \nL 41.796875 68.359375 \nL 41.796875 61.328125 \nL 16.796875 61.328125 \nQ 14.84375 50.78125 12.890625 44.53125 \nQ 18.75 47.265625 23.828125 47.0625 \nQ 28.90625 46.875 33.59375 44.71875 \nQ 38.28125 42.578125 40.421875 38.859375 \nQ 42.578125 35.15625 43.546875 31.4375 \nQ 44.53125 27.734375 44.328125 23.4375 \nQ 44.140625 19.140625 42.578125 14.640625 \nQ 41.015625 10.15625 37.890625 7.21875 \nQ 34.765625 4.296875 30.265625 2.53125 \nQ 25.78125 0.78125 19.921875 1.171875 \nQ 14.0625 1.5625 8.78125 5.46875 \nQ 3.515625 9.375 1.5625 18.75 \nz\n\" id=\"SimHei-53\"/>\n       </defs>\n       <use xlink:href=\"#SimHei-53\"/>\n      </g>\n     </g>\n    </g>\n    <g id=\"xtick_7\">\n     <g id=\"line2d_7\">\n      <g>\n       <use style=\"stroke:#000000;stroke-width:0.8;\" x=\"310.301299\" xlink:href=\"#me494a47d49\" y=\"224.64\"/>\n      </g>\n     </g>\n     <g id=\"text_7\">\n      <!-- 6 -->\n      <g transform=\"translate(307.801299 238.515)scale(0.1 -0.1)\">\n       <defs>\n        <path d=\"M 3.515625 19.53125 \nQ 4.296875 30.859375 6.046875 34.765625 \nQ 7.8125 38.671875 11.328125 44.53125 \nL 27.34375 69.53125 \nL 36.328125 69.53125 \nL 19.921875 43.75 \nQ 30.46875 46.484375 36.71875 42.96875 \nQ 42.96875 39.453125 45.109375 34.953125 \nQ 47.265625 30.46875 47.453125 25.1875 \nQ 47.65625 19.921875 45.890625 14.84375 \nQ 44.140625 9.765625 39.640625 5.65625 \nQ 35.15625 1.5625 27.140625 1.171875 \nQ 19.140625 0.78125 13.46875 4.09375 \nQ 7.8125 7.421875 5.65625 13.46875 \nQ 3.515625 19.53125 4.296875 30.859375 \nz\nM 12.5 16.015625 \nQ 19.53125 8.59375 25.390625 8.203125 \nQ 31.25 7.8125 35.15625 12.109375 \nQ 39.0625 16.40625 39.0625 24.609375 \nQ 39.0625 32.8125 34.171875 35.9375 \nQ 29.296875 39.0625 23.234375 38.28125 \nQ 17.1875 37.5 14.453125 32.421875 \nQ 11.71875 27.34375 12.109375 21.671875 \nQ 12.5 16.015625 19.53125 8.59375 \nz\n\" id=\"SimHei-54\"/>\n       </defs>\n       <use xlink:href=\"#SimHei-54\"/>\n      </g>\n     </g>\n    </g>\n    <g id=\"xtick_8\">\n     <g id=\"line2d_8\">\n      <g>\n       <use style=\"stroke:#000000;stroke-width:0.8;\" x=\"353.781818\" xlink:href=\"#me494a47d49\" y=\"224.64\"/>\n      </g>\n     </g>\n     <g id=\"text_8\">\n      <!-- 7 -->\n      <g transform=\"translate(351.281818 238.515)scale(0.1 -0.1)\">\n       <defs>\n        <path d=\"M 13.28125 2.34375 \nQ 20.3125 32.03125 37.890625 61.328125 \nL 4.296875 61.328125 \nL 4.296875 68.359375 \nL 46.09375 68.359375 \nL 46.09375 61.71875 \nQ 27.734375 32.03125 21.875 2.34375 \nL 13.28125 2.34375 \nz\n\" id=\"SimHei-55\"/>\n       </defs>\n       <use xlink:href=\"#SimHei-55\"/>\n      </g>\n     </g>\n    </g>\n   </g>\n   <g id=\"matplotlib.axis_2\">\n    <g id=\"ytick_1\">\n     <g id=\"line2d_9\">\n      <defs>\n       <path d=\"M 0 0 \nL -3.5 0 \n\" id=\"m90072a1916\" style=\"stroke:#000000;stroke-width:0.8;\"/>\n      </defs>\n      <g>\n       <use style=\"stroke:#000000;stroke-width:0.8;\" x=\"34.2\" xlink:href=\"#m90072a1916\" y=\"205.94608\"/>\n      </g>\n     </g>\n     <g id=\"text_9\">\n      <!-- 1000 -->\n      <g transform=\"translate(7.2 209.38358)scale(0.1 -0.1)\">\n       <use xlink:href=\"#SimHei-49\"/>\n       <use x=\"50\" xlink:href=\"#SimHei-48\"/>\n       <use x=\"100\" xlink:href=\"#SimHei-48\"/>\n       <use x=\"150\" xlink:href=\"#SimHei-48\"/>\n      </g>\n     </g>\n    </g>\n    <g id=\"ytick_2\">\n     <g id=\"line2d_10\">\n      <g>\n       <use style=\"stroke:#000000;stroke-width:0.8;\" x=\"34.2\" xlink:href=\"#m90072a1916\" y=\"171.122823\"/>\n      </g>\n     </g>\n     <g id=\"text_10\">\n      <!-- 2000 -->\n      <g transform=\"translate(7.2 174.560323)scale(0.1 -0.1)\">\n       <use xlink:href=\"#SimHei-50\"/>\n       <use x=\"50\" xlink:href=\"#SimHei-48\"/>\n       <use x=\"100\" xlink:href=\"#SimHei-48\"/>\n       <use x=\"150\" xlink:href=\"#SimHei-48\"/>\n      </g>\n     </g>\n    </g>\n    <g id=\"ytick_3\">\n     <g id=\"line2d_11\">\n      <g>\n       <use style=\"stroke:#000000;stroke-width:0.8;\" x=\"34.2\" xlink:href=\"#m90072a1916\" y=\"136.299566\"/>\n      </g>\n     </g>\n     <g id=\"text_11\">\n      <!-- 3000 -->\n      <g transform=\"translate(7.2 139.737066)scale(0.1 -0.1)\">\n       <use xlink:href=\"#SimHei-51\"/>\n       <use x=\"50\" xlink:href=\"#SimHei-48\"/>\n       <use x=\"100\" xlink:href=\"#SimHei-48\"/>\n       <use x=\"150\" xlink:href=\"#SimHei-48\"/>\n      </g>\n     </g>\n    </g>\n    <g id=\"ytick_4\">\n     <g id=\"line2d_12\">\n      <g>\n       <use style=\"stroke:#000000;stroke-width:0.8;\" x=\"34.2\" xlink:href=\"#m90072a1916\" y=\"101.476309\"/>\n      </g>\n     </g>\n     <g id=\"text_12\">\n      <!-- 4000 -->\n      <g transform=\"translate(7.2 104.913809)scale(0.1 -0.1)\">\n       <use xlink:href=\"#SimHei-52\"/>\n       <use x=\"50\" xlink:href=\"#SimHei-48\"/>\n       <use x=\"100\" xlink:href=\"#SimHei-48\"/>\n       <use x=\"150\" xlink:href=\"#SimHei-48\"/>\n      </g>\n     </g>\n    </g>\n    <g id=\"ytick_5\">\n     <g id=\"line2d_13\">\n      <g>\n       <use style=\"stroke:#000000;stroke-width:0.8;\" x=\"34.2\" xlink:href=\"#m90072a1916\" y=\"66.653052\"/>\n      </g>\n     </g>\n     <g id=\"text_13\">\n      <!-- 5000 -->\n      <g transform=\"translate(7.2 70.090552)scale(0.1 -0.1)\">\n       <use xlink:href=\"#SimHei-53\"/>\n       <use x=\"50\" xlink:href=\"#SimHei-48\"/>\n       <use x=\"100\" xlink:href=\"#SimHei-48\"/>\n       <use x=\"150\" xlink:href=\"#SimHei-48\"/>\n      </g>\n     </g>\n    </g>\n    <g id=\"ytick_6\">\n     <g id=\"line2d_14\">\n      <g>\n       <use style=\"stroke:#000000;stroke-width:0.8;\" x=\"34.2\" xlink:href=\"#m90072a1916\" y=\"31.829795\"/>\n      </g>\n     </g>\n     <g id=\"text_14\">\n      <!-- 6000 -->\n      <g transform=\"translate(7.2 35.267295)scale(0.1 -0.1)\">\n       <use xlink:href=\"#SimHei-54\"/>\n       <use x=\"50\" xlink:href=\"#SimHei-48\"/>\n       <use x=\"100\" xlink:href=\"#SimHei-48\"/>\n       <use x=\"150\" xlink:href=\"#SimHei-48\"/>\n      </g>\n     </g>\n    </g>\n   </g>\n   <g id=\"line2d_15\">\n    <path clip-path=\"url(#p94d919661d)\" d=\"M 49.418182 206.053031 \nL 92.898701 179.836897 \nL 136.379221 139.692395 \nL 179.85974 87.829917 \nL 223.34026 38.792417 \nL 266.820779 17.083636 \nL 310.301299 36.567577 \nL 353.781818 84.719446 \n\" style=\"fill:none;stroke:#ff0000;stroke-linecap:square;stroke-width:1.5;\"/>\n   </g>\n   <g id=\"patch_3\">\n    <path d=\"M 34.2 224.64 \nL 34.2 7.2 \n\" style=\"fill:none;stroke:#000000;stroke-linecap:square;stroke-linejoin:miter;stroke-width:0.8;\"/>\n   </g>\n   <g id=\"patch_4\">\n    <path d=\"M 369 224.64 \nL 369 7.2 \n\" style=\"fill:none;stroke:#000000;stroke-linecap:square;stroke-linejoin:miter;stroke-width:0.8;\"/>\n   </g>\n   <g id=\"patch_5\">\n    <path d=\"M 34.2 224.64 \nL 369 224.64 \n\" style=\"fill:none;stroke:#000000;stroke-linecap:square;stroke-linejoin:miter;stroke-width:0.8;\"/>\n   </g>\n   <g id=\"patch_6\">\n    <path d=\"M 34.2 7.2 \nL 369 7.2 \n\" style=\"fill:none;stroke:#000000;stroke-linecap:square;stroke-linejoin:miter;stroke-width:0.8;\"/>\n   </g>\n  </g>\n </g>\n <defs>\n  <clipPath id=\"p94d919661d\">\n   <rect height=\"217.44\" width=\"334.8\" x=\"34.2\" y=\"7.2\"/>\n  </clipPath>\n </defs>\n</svg>\n",
      "text/plain": [
       "<Figure size 432x288 with 1 Axes>"
      ]
     },
     "metadata": {
      "needs_background": "light"
     }
    }
   ],
   "metadata": {}
  },
  {
   "cell_type": "markdown",
   "source": [
    "## 2. Agent-based diffusion model（ABM）"
   ],
   "metadata": {}
  },
  {
   "cell_type": "code",
   "execution_count": 9,
   "source": [
    "import networkx as nx\n",
    "import random\n",
    "\n",
    "\n",
    "class Diffuse:  # 默认网络结构为节点数量为10000，边为30000的随机网络\n",
    "    def __init__(self, p, q, alpha=0, sigma=0, g=nx.gnm_random_graph(10000, 30000), num_runs=40):\n",
    "        '''\n",
    "        p: coefficient of external influence\n",
    "        q: coefficient of internal influence\n",
    "        alpha: strength of neighborhood effects\n",
    "        sigma: individual heterogeneity\n",
    "        g: network\n",
    "        num_runs: number of steps for simulation\n",
    "        '''\n",
    "        self.g = g.to_directed() if not nx.is_directed(g) else g\n",
    "        self.nodes_array = np.array(self.g)\n",
    "        self.num_runs = num_runs\n",
    "        self.alpha = alpha\n",
    "        self.sigma = sigma\n",
    "        for i in self.g:\n",
    "            self.g.nodes[i]['prede'] = list(self.g.predecessors(i))\n",
    "            self.g.nodes[i]['num_prede'] = len(self.g.nodes[i]['prede'])\n",
    "            self.g.nodes[i]['p'] = p*(1 + self.sigma*np.random.randn())\n",
    "            self.g.nodes[i]['q'] = q*(1 + self.sigma*np.random.randn())\n",
    "                 \n",
    "    def decide(self, i):\n",
    "        '''\n",
    "        agent i makes innovation decision\n",
    "        '''\n",
    "        num_adopt_prede = np.sum([self.g.nodes[k]['state'] for k in self.g.nodes[i]['prede']])\n",
    "        if self.g.nodes[i]['num_prede']:  # check whether agent i has precedessors or not\n",
    "            mi = num_adopt_prede/(self.g.nodes[i]['num_prede']**self.alpha)\n",
    "        else:\n",
    "            mi = 0\n",
    "        prob = 1 - (1 - self.g.nodes[i]['p'])*(1 - self.g.nodes[i]['q'])**mi\n",
    "        return prob > random.random()  # the probability of this inequation takes the value of True is equal to prob\n",
    "\n",
    "    def update(self, non_node_array):\n",
    "        '''\n",
    "        non-adopted agents update states\n",
    "        '''\n",
    "        len_nodes = len(non_node_array)  # amount of non-adopted agents\n",
    "        state_array = np.zeros(len_nodes, dtype=bool)\n",
    "        for i in range(len_nodes):\n",
    "            node = non_node_array[i]\n",
    "            if self.decide(node):\n",
    "                self.g.nodes[node]['state'] = True  # update node's state\n",
    "                state_array[i] = True\n",
    "        return np.sum(state_array), non_node_array[state_array == False]\n",
    "\n",
    "    def single_diffuse(self):\n",
    "        '''\n",
    "        a single diffusion process\n",
    "        '''\n",
    "        for i in self.g:  # initialize the state of agents\n",
    "            self.g.nodes[i]['state'] = False\n",
    "        non_node_array = self.nodes_array[:]  # array of non-adopted nodes\n",
    "        num_of_adopt = []  # number of adopters for each step\n",
    "        for i in range(self.num_runs):\n",
    "            num, non_node_array = self.update(non_node_array)\n",
    "            num_of_adopt.append(num)\n",
    "\n",
    "        return num_of_adopt\n",
    "\n",
    "    def repete_diffuse(self, repetes=10):\n",
    "        '''\n",
    "        perform multiple diffusion processes for a parameter configuration\n",
    "        '''\n",
    "        return [self.single_diffuse() for i in range(repetes)]"
   ],
   "outputs": [],
   "metadata": {}
  },
  {
   "cell_type": "code",
   "execution_count": 10,
   "source": [
    "diffuse = Diffuse(p=0.001, q=0.1)\n",
    "s_diff = diffuse.single_diffuse()"
   ],
   "outputs": [],
   "metadata": {}
  },
  {
   "cell_type": "code",
   "execution_count": 11,
   "source": [
    "plt.plot(s_diff, 'ro--')"
   ],
   "outputs": [
    {
     "output_type": "execute_result",
     "data": {
      "text/plain": [
       "[<matplotlib.lines.Line2D at 0x7f5ab4ac76d0>]"
      ]
     },
     "metadata": {},
     "execution_count": 11
    },
    {
     "output_type": "display_data",
     "data": {
      "image/svg+xml": "<?xml version=\"1.0\" encoding=\"utf-8\" standalone=\"no\"?>\n<!DOCTYPE svg PUBLIC \"-//W3C//DTD SVG 1.1//EN\"\n  \"http://www.w3.org/Graphics/SVG/1.1/DTD/svg11.dtd\">\n<!-- Created with matplotlib (https://matplotlib.org/) -->\n<svg height=\"246.965pt\" version=\"1.1\" viewBox=\"0 0 376.2 246.965\" width=\"376.2pt\" xmlns=\"http://www.w3.org/2000/svg\" xmlns:xlink=\"http://www.w3.org/1999/xlink\">\n <metadata>\n  <rdf:RDF xmlns:cc=\"http://creativecommons.org/ns#\" xmlns:dc=\"http://purl.org/dc/elements/1.1/\" xmlns:rdf=\"http://www.w3.org/1999/02/22-rdf-syntax-ns#\">\n   <cc:Work>\n    <dc:type rdf:resource=\"http://purl.org/dc/dcmitype/StillImage\"/>\n    <dc:date>2021-09-27T09:40:23.487861</dc:date>\n    <dc:format>image/svg+xml</dc:format>\n    <dc:creator>\n     <cc:Agent>\n      <dc:title>Matplotlib v3.3.4, https://matplotlib.org/</dc:title>\n     </cc:Agent>\n    </dc:creator>\n   </cc:Work>\n  </rdf:RDF>\n </metadata>\n <defs>\n  <style type=\"text/css\">*{stroke-linecap:butt;stroke-linejoin:round;}</style>\n </defs>\n <g id=\"figure_1\">\n  <g id=\"patch_1\">\n   <path d=\"M 0 246.965 \nL 376.2 246.965 \nL 376.2 0 \nL 0 0 \nz\n\" style=\"fill:none;\"/>\n  </g>\n  <g id=\"axes_1\">\n   <g id=\"patch_2\">\n    <path d=\"M 34.2 224.64 \nL 369 224.64 \nL 369 7.2 \nL 34.2 7.2 \nz\n\" style=\"fill:#ffffff;\"/>\n   </g>\n   <g id=\"matplotlib.axis_1\">\n    <g id=\"xtick_1\">\n     <g id=\"line2d_1\">\n      <defs>\n       <path d=\"M 0 0 \nL 0 3.5 \n\" id=\"mab982e469b\" style=\"stroke:#000000;stroke-width:0.8;\"/>\n      </defs>\n      <g>\n       <use style=\"stroke:#000000;stroke-width:0.8;\" x=\"49.418182\" xlink:href=\"#mab982e469b\" y=\"224.64\"/>\n      </g>\n     </g>\n     <g id=\"text_1\">\n      <!-- 0 -->\n      <g transform=\"translate(46.918182 238.515)scale(0.1 -0.1)\">\n       <defs>\n        <path d=\"M 3.125 29.296875 \nQ 3.90625 50 6.4375 56.046875 \nQ 8.984375 62.109375 13.671875 66.015625 \nQ 18.359375 69.921875 25.1875 69.921875 \nQ 32.03125 69.921875 37.109375 64.25 \nQ 42.1875 58.59375 43.75 50 \nQ 45.3125 41.40625 44.71875 30.265625 \nQ 44.140625 19.140625 40.8125 12.109375 \nQ 37.5 5.078125 30.859375 2.34375 \nQ 24.21875 -0.390625 17.578125 2.921875 \nQ 10.9375 6.25 8.203125 11.71875 \nQ 5.46875 17.1875 4.296875 23.234375 \nQ 3.125 29.296875 3.90625 50 \nz\nM 12.890625 52.734375 \nQ 10.546875 31.25 12.5 22.84375 \nQ 14.453125 14.453125 18.9375 10.9375 \nQ 23.4375 7.421875 28.125 9.5625 \nQ 32.8125 11.71875 34.953125 18.15625 \nQ 37.109375 24.609375 37.109375 32.21875 \nQ 37.109375 39.84375 36.515625 46.09375 \nQ 35.9375 52.34375 33 57.421875 \nQ 30.078125 62.5 25.1875 62.6875 \nQ 20.3125 62.890625 16.59375 57.8125 \nQ 12.890625 52.734375 10.546875 31.25 \nz\n\" id=\"SimHei-48\"/>\n       </defs>\n       <use xlink:href=\"#SimHei-48\"/>\n      </g>\n     </g>\n    </g>\n    <g id=\"xtick_2\">\n     <g id=\"line2d_2\">\n      <g>\n       <use style=\"stroke:#000000;stroke-width:0.8;\" x=\"88.439161\" xlink:href=\"#mab982e469b\" y=\"224.64\"/>\n      </g>\n     </g>\n     <g id=\"text_2\">\n      <!-- 5 -->\n      <g transform=\"translate(85.939161 238.515)scale(0.1 -0.1)\">\n       <defs>\n        <path d=\"M 8.59375 20.703125 \nQ 11.328125 10.15625 17.96875 8.984375 \nQ 24.609375 7.8125 28.703125 10.34375 \nQ 32.8125 12.890625 34.5625 16.984375 \nQ 36.328125 21.09375 36.125 26.171875 \nQ 35.9375 31.25 33.390625 34.765625 \nQ 30.859375 38.28125 26.953125 39.453125 \nQ 23.046875 40.625 18.15625 39.453125 \nQ 13.28125 38.28125 10.15625 33.984375 \nL 3.515625 34.765625 \nQ 4.296875 37.109375 10.9375 68.359375 \nL 41.796875 68.359375 \nL 41.796875 61.328125 \nL 16.796875 61.328125 \nQ 14.84375 50.78125 12.890625 44.53125 \nQ 18.75 47.265625 23.828125 47.0625 \nQ 28.90625 46.875 33.59375 44.71875 \nQ 38.28125 42.578125 40.421875 38.859375 \nQ 42.578125 35.15625 43.546875 31.4375 \nQ 44.53125 27.734375 44.328125 23.4375 \nQ 44.140625 19.140625 42.578125 14.640625 \nQ 41.015625 10.15625 37.890625 7.21875 \nQ 34.765625 4.296875 30.265625 2.53125 \nQ 25.78125 0.78125 19.921875 1.171875 \nQ 14.0625 1.5625 8.78125 5.46875 \nQ 3.515625 9.375 1.5625 18.75 \nz\n\" id=\"SimHei-53\"/>\n       </defs>\n       <use xlink:href=\"#SimHei-53\"/>\n      </g>\n     </g>\n    </g>\n    <g id=\"xtick_3\">\n     <g id=\"line2d_3\">\n      <g>\n       <use style=\"stroke:#000000;stroke-width:0.8;\" x=\"127.46014\" xlink:href=\"#mab982e469b\" y=\"224.64\"/>\n      </g>\n     </g>\n     <g id=\"text_3\">\n      <!-- 10 -->\n      <g transform=\"translate(122.46014 238.515)scale(0.1 -0.1)\">\n       <defs>\n        <path d=\"M 21.875 56.25 \nQ 16.796875 51.171875 8.984375 46.484375 \nL 8.984375 53.90625 \nQ 18.75 60.546875 25 69.53125 \nL 29.6875 69.53125 \nL 29.6875 2.34375 \nL 21.875 2.34375 \nz\n\" id=\"SimHei-49\"/>\n       </defs>\n       <use xlink:href=\"#SimHei-49\"/>\n       <use x=\"50\" xlink:href=\"#SimHei-48\"/>\n      </g>\n     </g>\n    </g>\n    <g id=\"xtick_4\">\n     <g id=\"line2d_4\">\n      <g>\n       <use style=\"stroke:#000000;stroke-width:0.8;\" x=\"166.481119\" xlink:href=\"#mab982e469b\" y=\"224.64\"/>\n      </g>\n     </g>\n     <g id=\"text_4\">\n      <!-- 15 -->\n      <g transform=\"translate(161.481119 238.515)scale(0.1 -0.1)\">\n       <use xlink:href=\"#SimHei-49\"/>\n       <use x=\"50\" xlink:href=\"#SimHei-53\"/>\n      </g>\n     </g>\n    </g>\n    <g id=\"xtick_5\">\n     <g id=\"line2d_5\">\n      <g>\n       <use style=\"stroke:#000000;stroke-width:0.8;\" x=\"205.502098\" xlink:href=\"#mab982e469b\" y=\"224.64\"/>\n      </g>\n     </g>\n     <g id=\"text_5\">\n      <!-- 20 -->\n      <g transform=\"translate(200.502098 238.515)scale(0.1 -0.1)\">\n       <defs>\n        <path d=\"M 4.6875 3.90625 \nQ 5.078125 9.765625 10.15625 14.453125 \nQ 15.234375 19.140625 23.046875 29.09375 \nQ 30.859375 39.0625 33.203125 44.53125 \nQ 35.546875 50 34.953125 53.90625 \nQ 34.375 57.8125 31.25 60.34375 \nQ 28.125 62.890625 24.015625 62.5 \nQ 19.921875 62.109375 16.203125 59.375 \nQ 12.5 56.640625 10.546875 51.171875 \nL 3.125 52.34375 \nQ 6.25 61.328125 11.125 65.421875 \nQ 16.015625 69.53125 22.65625 69.921875 \nQ 26.5625 70.3125 29.6875 69.71875 \nQ 32.8125 69.140625 36.125 66.984375 \nQ 39.453125 64.84375 41.59375 60.546875 \nQ 43.75 56.25 43.15625 50.1875 \nQ 42.578125 44.140625 37.109375 35.734375 \nQ 31.640625 27.34375 16.015625 9.375 \nL 44.140625 9.375 \nL 44.140625 2.34375 \nL 4.6875 2.34375 \nz\n\" id=\"SimHei-50\"/>\n       </defs>\n       <use xlink:href=\"#SimHei-50\"/>\n       <use x=\"50\" xlink:href=\"#SimHei-48\"/>\n      </g>\n     </g>\n    </g>\n    <g id=\"xtick_6\">\n     <g id=\"line2d_6\">\n      <g>\n       <use style=\"stroke:#000000;stroke-width:0.8;\" x=\"244.523077\" xlink:href=\"#mab982e469b\" y=\"224.64\"/>\n      </g>\n     </g>\n     <g id=\"text_6\">\n      <!-- 25 -->\n      <g transform=\"translate(239.523077 238.515)scale(0.1 -0.1)\">\n       <use xlink:href=\"#SimHei-50\"/>\n       <use x=\"50\" xlink:href=\"#SimHei-53\"/>\n      </g>\n     </g>\n    </g>\n    <g id=\"xtick_7\">\n     <g id=\"line2d_7\">\n      <g>\n       <use style=\"stroke:#000000;stroke-width:0.8;\" x=\"283.544056\" xlink:href=\"#mab982e469b\" y=\"224.64\"/>\n      </g>\n     </g>\n     <g id=\"text_7\">\n      <!-- 30 -->\n      <g transform=\"translate(278.544056 238.515)scale(0.1 -0.1)\">\n       <defs>\n        <path d=\"M 3.90625 19.140625 \nL 10.9375 20.3125 \nQ 12.5 15.234375 16.015625 11.90625 \nQ 19.53125 8.59375 24.796875 8.78125 \nQ 30.078125 8.984375 33.203125 13.078125 \nQ 36.328125 17.1875 35.9375 22.453125 \nQ 35.546875 27.734375 31.828125 30.65625 \nQ 28.125 33.59375 19.921875 34.765625 \nL 19.921875 39.84375 \nQ 28.125 40.625 31.828125 44.140625 \nQ 35.546875 47.65625 35.15625 53.3125 \nQ 34.765625 58.984375 30.078125 61.515625 \nQ 25.390625 64.0625 20.109375 62.109375 \nQ 14.84375 60.15625 11.71875 51.171875 \nL 4.6875 52.34375 \nQ 7.03125 59.375 11.125 64.0625 \nQ 15.234375 68.75 22.265625 69.53125 \nQ 29.296875 70.3125 34.5625 67.765625 \nQ 39.84375 65.234375 41.984375 59.953125 \nQ 44.140625 54.6875 42.578125 48.4375 \nQ 41.015625 42.1875 33.59375 37.5 \nQ 39.0625 35.15625 41.984375 30.46875 \nQ 44.921875 25.78125 43.9375 18.15625 \nQ 42.96875 10.546875 37.109375 5.859375 \nQ 31.25 1.171875 23.828125 1.359375 \nQ 16.40625 1.5625 10.9375 6.046875 \nQ 5.46875 10.546875 3.90625 19.140625 \nz\n\" id=\"SimHei-51\"/>\n       </defs>\n       <use xlink:href=\"#SimHei-51\"/>\n       <use x=\"50\" xlink:href=\"#SimHei-48\"/>\n      </g>\n     </g>\n    </g>\n    <g id=\"xtick_8\">\n     <g id=\"line2d_8\">\n      <g>\n       <use style=\"stroke:#000000;stroke-width:0.8;\" x=\"322.565035\" xlink:href=\"#mab982e469b\" y=\"224.64\"/>\n      </g>\n     </g>\n     <g id=\"text_8\">\n      <!-- 35 -->\n      <g transform=\"translate(317.565035 238.515)scale(0.1 -0.1)\">\n       <use xlink:href=\"#SimHei-51\"/>\n       <use x=\"50\" xlink:href=\"#SimHei-53\"/>\n      </g>\n     </g>\n    </g>\n    <g id=\"xtick_9\">\n     <g id=\"line2d_9\">\n      <g>\n       <use style=\"stroke:#000000;stroke-width:0.8;\" x=\"361.586014\" xlink:href=\"#mab982e469b\" y=\"224.64\"/>\n      </g>\n     </g>\n     <g id=\"text_9\">\n      <!-- 40 -->\n      <g transform=\"translate(356.586014 238.515)scale(0.1 -0.1)\">\n       <defs>\n        <path d=\"M 31.25 17.1875 \nL 1.171875 17.1875 \nL 1.171875 23.828125 \nL 32.8125 69.53125 \nL 38.671875 69.53125 \nL 38.671875 23.828125 \nL 48.046875 23.828125 \nL 48.046875 17.1875 \nL 38.671875 17.1875 \nL 38.671875 2.34375 \nL 31.25 2.34375 \nz\nM 31.25 23.828125 \nL 31.25 54.6875 \nL 9.375 23.828125 \nz\n\" id=\"SimHei-52\"/>\n       </defs>\n       <use xlink:href=\"#SimHei-52\"/>\n       <use x=\"50\" xlink:href=\"#SimHei-48\"/>\n      </g>\n     </g>\n    </g>\n   </g>\n   <g id=\"matplotlib.axis_2\">\n    <g id=\"ytick_1\">\n     <g id=\"line2d_10\">\n      <defs>\n       <path d=\"M 0 0 \nL -3.5 0 \n\" id=\"mded1143f84\" style=\"stroke:#000000;stroke-width:0.8;\"/>\n      </defs>\n      <g>\n       <use style=\"stroke:#000000;stroke-width:0.8;\" x=\"34.2\" xlink:href=\"#mded1143f84\" y=\"214.917204\"/>\n      </g>\n     </g>\n     <g id=\"text_10\">\n      <!-- 0 -->\n      <g transform=\"translate(22.2 218.354704)scale(0.1 -0.1)\">\n       <use xlink:href=\"#SimHei-48\"/>\n      </g>\n     </g>\n    </g>\n    <g id=\"ytick_2\">\n     <g id=\"line2d_11\">\n      <g>\n       <use style=\"stroke:#000000;stroke-width:0.8;\" x=\"34.2\" xlink:href=\"#mded1143f84\" y=\"182.749144\"/>\n      </g>\n     </g>\n     <g id=\"text_11\">\n      <!-- 200 -->\n      <g transform=\"translate(12.2 186.186644)scale(0.1 -0.1)\">\n       <use xlink:href=\"#SimHei-50\"/>\n       <use x=\"50\" xlink:href=\"#SimHei-48\"/>\n       <use x=\"100\" xlink:href=\"#SimHei-48\"/>\n      </g>\n     </g>\n    </g>\n    <g id=\"ytick_3\">\n     <g id=\"line2d_12\">\n      <g>\n       <use style=\"stroke:#000000;stroke-width:0.8;\" x=\"34.2\" xlink:href=\"#mded1143f84\" y=\"150.581084\"/>\n      </g>\n     </g>\n     <g id=\"text_12\">\n      <!-- 400 -->\n      <g transform=\"translate(12.2 154.018584)scale(0.1 -0.1)\">\n       <use xlink:href=\"#SimHei-52\"/>\n       <use x=\"50\" xlink:href=\"#SimHei-48\"/>\n       <use x=\"100\" xlink:href=\"#SimHei-48\"/>\n      </g>\n     </g>\n    </g>\n    <g id=\"ytick_4\">\n     <g id=\"line2d_13\">\n      <g>\n       <use style=\"stroke:#000000;stroke-width:0.8;\" x=\"34.2\" xlink:href=\"#mded1143f84\" y=\"118.413025\"/>\n      </g>\n     </g>\n     <g id=\"text_13\">\n      <!-- 600 -->\n      <g transform=\"translate(12.2 121.850525)scale(0.1 -0.1)\">\n       <defs>\n        <path d=\"M 3.515625 19.53125 \nQ 4.296875 30.859375 6.046875 34.765625 \nQ 7.8125 38.671875 11.328125 44.53125 \nL 27.34375 69.53125 \nL 36.328125 69.53125 \nL 19.921875 43.75 \nQ 30.46875 46.484375 36.71875 42.96875 \nQ 42.96875 39.453125 45.109375 34.953125 \nQ 47.265625 30.46875 47.453125 25.1875 \nQ 47.65625 19.921875 45.890625 14.84375 \nQ 44.140625 9.765625 39.640625 5.65625 \nQ 35.15625 1.5625 27.140625 1.171875 \nQ 19.140625 0.78125 13.46875 4.09375 \nQ 7.8125 7.421875 5.65625 13.46875 \nQ 3.515625 19.53125 4.296875 30.859375 \nz\nM 12.5 16.015625 \nQ 19.53125 8.59375 25.390625 8.203125 \nQ 31.25 7.8125 35.15625 12.109375 \nQ 39.0625 16.40625 39.0625 24.609375 \nQ 39.0625 32.8125 34.171875 35.9375 \nQ 29.296875 39.0625 23.234375 38.28125 \nQ 17.1875 37.5 14.453125 32.421875 \nQ 11.71875 27.34375 12.109375 21.671875 \nQ 12.5 16.015625 19.53125 8.59375 \nz\n\" id=\"SimHei-54\"/>\n       </defs>\n       <use xlink:href=\"#SimHei-54\"/>\n       <use x=\"50\" xlink:href=\"#SimHei-48\"/>\n       <use x=\"100\" xlink:href=\"#SimHei-48\"/>\n      </g>\n     </g>\n    </g>\n    <g id=\"ytick_5\">\n     <g id=\"line2d_14\">\n      <g>\n       <use style=\"stroke:#000000;stroke-width:0.8;\" x=\"34.2\" xlink:href=\"#mded1143f84\" y=\"86.244965\"/>\n      </g>\n     </g>\n     <g id=\"text_14\">\n      <!-- 800 -->\n      <g transform=\"translate(12.2 89.682465)scale(0.1 -0.1)\">\n       <defs>\n        <path d=\"M 2.734375 16.796875 \nQ 2.734375 26.171875 5.078125 30.65625 \nQ 7.421875 35.15625 12.890625 37.890625 \nQ 8.203125 40.625 6.640625 43.9375 \nQ 5.078125 47.265625 4.875 51.5625 \nQ 4.6875 55.859375 6.046875 58.984375 \nQ 7.421875 62.109375 10.15625 64.84375 \nQ 12.890625 67.578125 16.203125 68.546875 \nQ 19.53125 69.53125 23.4375 69.53125 \nQ 27.34375 69.53125 30.46875 68.75 \nQ 33.59375 67.96875 37.109375 65.421875 \nQ 40.625 62.890625 42.1875 58.203125 \nQ 43.75 53.515625 41.984375 47.265625 \nQ 40.234375 41.015625 32.8125 37.5 \nQ 39.453125 35.546875 42.1875 31.4375 \nQ 44.921875 27.34375 44.921875 21.484375 \nQ 44.921875 15.625 43.15625 12.109375 \nQ 41.40625 8.59375 39.25 6.25 \nQ 37.109375 3.90625 33.390625 2.53125 \nQ 29.6875 1.171875 24.015625 1.171875 \nQ 18.359375 1.171875 14.25 2.53125 \nQ 10.15625 3.90625 7.421875 6.640625 \nQ 4.6875 9.375 3.703125 13.078125 \nQ 2.734375 16.796875 2.734375 26.171875 \nz\nM 10.9375 26.5625 \nQ 10.546875 17.1875 12.296875 13.671875 \nQ 14.0625 10.15625 18.75 9.171875 \nQ 23.4375 8.203125 28.515625 9.375 \nQ 33.59375 10.546875 35.546875 14.84375 \nQ 37.5 19.140625 36.90625 23.4375 \nQ 36.328125 27.734375 32.03125 30.65625 \nQ 27.734375 33.59375 22.65625 33.203125 \nQ 17.578125 32.8125 14.25 29.6875 \nQ 10.9375 26.5625 10.546875 17.1875 \nz\nM 12.109375 56.25 \nQ 12.109375 48.4375 14.84375 44.921875 \nQ 17.578125 41.40625 23.4375 41.40625 \nQ 29.296875 41.40625 32.21875 44.921875 \nQ 35.15625 48.4375 34.953125 53.3125 \nQ 34.765625 58.203125 31.4375 60.546875 \nQ 28.125 62.890625 22.453125 62.5 \nQ 16.796875 62.109375 14.453125 59.171875 \nQ 12.109375 56.25 12.109375 48.4375 \nz\n\" id=\"SimHei-56\"/>\n       </defs>\n       <use xlink:href=\"#SimHei-56\"/>\n       <use x=\"50\" xlink:href=\"#SimHei-48\"/>\n       <use x=\"100\" xlink:href=\"#SimHei-48\"/>\n      </g>\n     </g>\n    </g>\n    <g id=\"ytick_6\">\n     <g id=\"line2d_15\">\n      <g>\n       <use style=\"stroke:#000000;stroke-width:0.8;\" x=\"34.2\" xlink:href=\"#mded1143f84\" y=\"54.076905\"/>\n      </g>\n     </g>\n     <g id=\"text_15\">\n      <!-- 1000 -->\n      <g transform=\"translate(7.2 57.514405)scale(0.1 -0.1)\">\n       <use xlink:href=\"#SimHei-49\"/>\n       <use x=\"50\" xlink:href=\"#SimHei-48\"/>\n       <use x=\"100\" xlink:href=\"#SimHei-48\"/>\n       <use x=\"150\" xlink:href=\"#SimHei-48\"/>\n      </g>\n     </g>\n    </g>\n    <g id=\"ytick_7\">\n     <g id=\"line2d_16\">\n      <g>\n       <use style=\"stroke:#000000;stroke-width:0.8;\" x=\"34.2\" xlink:href=\"#mded1143f84\" y=\"21.908845\"/>\n      </g>\n     </g>\n     <g id=\"text_16\">\n      <!-- 1200 -->\n      <g transform=\"translate(7.2 25.346345)scale(0.1 -0.1)\">\n       <use xlink:href=\"#SimHei-49\"/>\n       <use x=\"50\" xlink:href=\"#SimHei-50\"/>\n       <use x=\"100\" xlink:href=\"#SimHei-48\"/>\n       <use x=\"150\" xlink:href=\"#SimHei-48\"/>\n      </g>\n     </g>\n    </g>\n   </g>\n   <g id=\"line2d_17\">\n    <path clip-path=\"url(#padc131c743)\" d=\"M 49.418182 211.539558 \nL 57.222378 208.805273 \nL 65.026573 206.070987 \nL 72.830769 202.04998 \nL 80.634965 192.077882 \nL 88.439161 177.280574 \nL 96.243357 157.658058 \nL 104.047552 125.329157 \nL 111.851748 82.706478 \nL 119.655944 30.594221 \nL 127.46014 17.083636 \nL 135.264336 30.433381 \nL 143.068531 45.391529 \nL 150.872727 76.112026 \nL 158.676923 110.049329 \nL 166.481119 145.434195 \nL 174.285315 161.839905 \nL 182.08951 177.602255 \nL 189.893706 189.826117 \nL 197.697902 199.476535 \nL 205.502098 202.532501 \nL 213.306294 206.875189 \nL 221.11049 207.840231 \nL 228.914685 208.805273 \nL 236.718881 211.861238 \nL 244.523077 211.539558 \nL 252.327273 212.98712 \nL 260.131469 212.82628 \nL 267.935664 213.469641 \nL 275.73986 214.113002 \nL 283.544056 213.952162 \nL 291.348252 214.273843 \nL 299.152448 214.113002 \nL 306.956643 214.756364 \nL 314.760839 214.595523 \nL 322.565035 214.595523 \nL 330.369231 214.434683 \nL 338.173427 214.113002 \nL 345.977622 214.756364 \nL 353.781818 214.756364 \n\" style=\"fill:none;stroke:#ff0000;stroke-dasharray:5.55,2.4;stroke-dashoffset:0;stroke-width:1.5;\"/>\n    <defs>\n     <path d=\"M 0 3 \nC 0.795609 3 1.55874 2.683901 2.12132 2.12132 \nC 2.683901 1.55874 3 0.795609 3 0 \nC 3 -0.795609 2.683901 -1.55874 2.12132 -2.12132 \nC 1.55874 -2.683901 0.795609 -3 0 -3 \nC -0.795609 -3 -1.55874 -2.683901 -2.12132 -2.12132 \nC -2.683901 -1.55874 -3 -0.795609 -3 0 \nC -3 0.795609 -2.683901 1.55874 -2.12132 2.12132 \nC -1.55874 2.683901 -0.795609 3 0 3 \nz\n\" id=\"m834c5a67bb\" style=\"stroke:#ff0000;\"/>\n    </defs>\n    <g clip-path=\"url(#padc131c743)\">\n     <use style=\"fill:#ff0000;stroke:#ff0000;\" x=\"49.418182\" xlink:href=\"#m834c5a67bb\" y=\"211.539558\"/>\n     <use style=\"fill:#ff0000;stroke:#ff0000;\" x=\"57.222378\" xlink:href=\"#m834c5a67bb\" y=\"208.805273\"/>\n     <use style=\"fill:#ff0000;stroke:#ff0000;\" x=\"65.026573\" xlink:href=\"#m834c5a67bb\" y=\"206.070987\"/>\n     <use style=\"fill:#ff0000;stroke:#ff0000;\" x=\"72.830769\" xlink:href=\"#m834c5a67bb\" y=\"202.04998\"/>\n     <use style=\"fill:#ff0000;stroke:#ff0000;\" x=\"80.634965\" xlink:href=\"#m834c5a67bb\" y=\"192.077882\"/>\n     <use style=\"fill:#ff0000;stroke:#ff0000;\" x=\"88.439161\" xlink:href=\"#m834c5a67bb\" y=\"177.280574\"/>\n     <use style=\"fill:#ff0000;stroke:#ff0000;\" x=\"96.243357\" xlink:href=\"#m834c5a67bb\" y=\"157.658058\"/>\n     <use style=\"fill:#ff0000;stroke:#ff0000;\" x=\"104.047552\" xlink:href=\"#m834c5a67bb\" y=\"125.329157\"/>\n     <use style=\"fill:#ff0000;stroke:#ff0000;\" x=\"111.851748\" xlink:href=\"#m834c5a67bb\" y=\"82.706478\"/>\n     <use style=\"fill:#ff0000;stroke:#ff0000;\" x=\"119.655944\" xlink:href=\"#m834c5a67bb\" y=\"30.594221\"/>\n     <use style=\"fill:#ff0000;stroke:#ff0000;\" x=\"127.46014\" xlink:href=\"#m834c5a67bb\" y=\"17.083636\"/>\n     <use style=\"fill:#ff0000;stroke:#ff0000;\" x=\"135.264336\" xlink:href=\"#m834c5a67bb\" y=\"30.433381\"/>\n     <use style=\"fill:#ff0000;stroke:#ff0000;\" x=\"143.068531\" xlink:href=\"#m834c5a67bb\" y=\"45.391529\"/>\n     <use style=\"fill:#ff0000;stroke:#ff0000;\" x=\"150.872727\" xlink:href=\"#m834c5a67bb\" y=\"76.112026\"/>\n     <use style=\"fill:#ff0000;stroke:#ff0000;\" x=\"158.676923\" xlink:href=\"#m834c5a67bb\" y=\"110.049329\"/>\n     <use style=\"fill:#ff0000;stroke:#ff0000;\" x=\"166.481119\" xlink:href=\"#m834c5a67bb\" y=\"145.434195\"/>\n     <use style=\"fill:#ff0000;stroke:#ff0000;\" x=\"174.285315\" xlink:href=\"#m834c5a67bb\" y=\"161.839905\"/>\n     <use style=\"fill:#ff0000;stroke:#ff0000;\" x=\"182.08951\" xlink:href=\"#m834c5a67bb\" y=\"177.602255\"/>\n     <use style=\"fill:#ff0000;stroke:#ff0000;\" x=\"189.893706\" xlink:href=\"#m834c5a67bb\" y=\"189.826117\"/>\n     <use style=\"fill:#ff0000;stroke:#ff0000;\" x=\"197.697902\" xlink:href=\"#m834c5a67bb\" y=\"199.476535\"/>\n     <use style=\"fill:#ff0000;stroke:#ff0000;\" x=\"205.502098\" xlink:href=\"#m834c5a67bb\" y=\"202.532501\"/>\n     <use style=\"fill:#ff0000;stroke:#ff0000;\" x=\"213.306294\" xlink:href=\"#m834c5a67bb\" y=\"206.875189\"/>\n     <use style=\"fill:#ff0000;stroke:#ff0000;\" x=\"221.11049\" xlink:href=\"#m834c5a67bb\" y=\"207.840231\"/>\n     <use style=\"fill:#ff0000;stroke:#ff0000;\" x=\"228.914685\" xlink:href=\"#m834c5a67bb\" y=\"208.805273\"/>\n     <use style=\"fill:#ff0000;stroke:#ff0000;\" x=\"236.718881\" xlink:href=\"#m834c5a67bb\" y=\"211.861238\"/>\n     <use style=\"fill:#ff0000;stroke:#ff0000;\" x=\"244.523077\" xlink:href=\"#m834c5a67bb\" y=\"211.539558\"/>\n     <use style=\"fill:#ff0000;stroke:#ff0000;\" x=\"252.327273\" xlink:href=\"#m834c5a67bb\" y=\"212.98712\"/>\n     <use style=\"fill:#ff0000;stroke:#ff0000;\" x=\"260.131469\" xlink:href=\"#m834c5a67bb\" y=\"212.82628\"/>\n     <use style=\"fill:#ff0000;stroke:#ff0000;\" x=\"267.935664\" xlink:href=\"#m834c5a67bb\" y=\"213.469641\"/>\n     <use style=\"fill:#ff0000;stroke:#ff0000;\" x=\"275.73986\" xlink:href=\"#m834c5a67bb\" y=\"214.113002\"/>\n     <use style=\"fill:#ff0000;stroke:#ff0000;\" x=\"283.544056\" xlink:href=\"#m834c5a67bb\" y=\"213.952162\"/>\n     <use style=\"fill:#ff0000;stroke:#ff0000;\" x=\"291.348252\" xlink:href=\"#m834c5a67bb\" y=\"214.273843\"/>\n     <use style=\"fill:#ff0000;stroke:#ff0000;\" x=\"299.152448\" xlink:href=\"#m834c5a67bb\" y=\"214.113002\"/>\n     <use style=\"fill:#ff0000;stroke:#ff0000;\" x=\"306.956643\" xlink:href=\"#m834c5a67bb\" y=\"214.756364\"/>\n     <use style=\"fill:#ff0000;stroke:#ff0000;\" x=\"314.760839\" xlink:href=\"#m834c5a67bb\" y=\"214.595523\"/>\n     <use style=\"fill:#ff0000;stroke:#ff0000;\" x=\"322.565035\" xlink:href=\"#m834c5a67bb\" y=\"214.595523\"/>\n     <use style=\"fill:#ff0000;stroke:#ff0000;\" x=\"330.369231\" xlink:href=\"#m834c5a67bb\" y=\"214.434683\"/>\n     <use style=\"fill:#ff0000;stroke:#ff0000;\" x=\"338.173427\" xlink:href=\"#m834c5a67bb\" y=\"214.113002\"/>\n     <use style=\"fill:#ff0000;stroke:#ff0000;\" x=\"345.977622\" xlink:href=\"#m834c5a67bb\" y=\"214.756364\"/>\n     <use style=\"fill:#ff0000;stroke:#ff0000;\" x=\"353.781818\" xlink:href=\"#m834c5a67bb\" y=\"214.756364\"/>\n    </g>\n   </g>\n   <g id=\"patch_3\">\n    <path d=\"M 34.2 224.64 \nL 34.2 7.2 \n\" style=\"fill:none;stroke:#000000;stroke-linecap:square;stroke-linejoin:miter;stroke-width:0.8;\"/>\n   </g>\n   <g id=\"patch_4\">\n    <path d=\"M 369 224.64 \nL 369 7.2 \n\" style=\"fill:none;stroke:#000000;stroke-linecap:square;stroke-linejoin:miter;stroke-width:0.8;\"/>\n   </g>\n   <g id=\"patch_5\">\n    <path d=\"M 34.2 224.64 \nL 369 224.64 \n\" style=\"fill:none;stroke:#000000;stroke-linecap:square;stroke-linejoin:miter;stroke-width:0.8;\"/>\n   </g>\n   <g id=\"patch_6\">\n    <path d=\"M 34.2 7.2 \nL 369 7.2 \n\" style=\"fill:none;stroke:#000000;stroke-linecap:square;stroke-linejoin:miter;stroke-width:0.8;\"/>\n   </g>\n  </g>\n </g>\n <defs>\n  <clipPath id=\"padc131c743\">\n   <rect height=\"217.44\" width=\"334.8\" x=\"34.2\" y=\"7.2\"/>\n  </clipPath>\n </defs>\n</svg>\n",
      "text/plain": [
       "<Figure size 432x288 with 1 Axes>"
      ]
     },
     "metadata": {
      "needs_background": "light"
     }
    }
   ],
   "metadata": {}
  },
  {
   "cell_type": "markdown",
   "source": [
    "## 3. Generate parameter boundary of ABM"
   ],
   "metadata": {}
  },
  {
   "cell_type": "code",
   "execution_count": 13,
   "source": [
    "class Gen_para:\n",
    "    def __init__(self, p_cont=(0.001, 0.02), q_cont=(0.08, 0.1), alpha=0, \n",
    "                 sigma=0, g=nx.gnm_random_graph(10000, 30000), delta=(0.0005, 0.01)):\n",
    "        self.p_cont = p_cont\n",
    "        self.q_cont = q_cont\n",
    "        self.d_p, self.d_q = delta\n",
    "        self.g = g\n",
    "        self.alpha = alpha\n",
    "        self.sigma = sigma\n",
    "        self.num_nodes = self.g.number_of_nodes()\n",
    "\n",
    "    def add_data(self, p, q):\n",
    "        diff = Diffuse(p, q, g=self.g, alpha=self.alpha, sigma=self.sigma)\n",
    "        x = np.mean(diff.repete_diffuse(), axis=0)\n",
    "        max_idx = np.argmax(x)\n",
    "        s = x[:(max_idx + 2)]\n",
    "        _, estimates = fit_dem(s)\n",
    "        return estimates[:2]  # P, Q\n",
    "\n",
    "    def identify_range(self):\n",
    "        min_p, max_p = self.p_cont\n",
    "        min_q, max_q = self.q_cont\n",
    "        est_cont = [self.add_data(p, q) for p, q in [(min_p, min_q), (max_p, max_q)]]\n",
    "        i = 1\n",
    "        while True:  # P: 0.007~0.03, Q: 0.38~0.53\n",
    "            min_P, min_Q = est_cont[0]\n",
    "            max_P, max_Q = est_cont[1]\n",
    "            print(i, f'P:{min_P:.4f}~{max_P:.4f}', f'Q:{min_Q:.4f}~{max_Q:.4f}' )\n",
    "            c1, c2 = 0, 0\n",
    "            # if min_P > the low boundary，then decrease the low boundary of min_p\n",
    "            if min_P > 0.0007:\n",
    "                min_p = min_p - self.d_p if min_p > self.d_p else 0.0003\n",
    "                c1 += 1\n",
    "\n",
    "            if min_Q > 0.38:  # if min_Q < the low boundary，then decrease the low boundary of min_q\n",
    "                min_q -= self.d_q\n",
    "                c1 += 1\n",
    "\n",
    "            if max_P < 0.03:  # if max_P < the up boundary，then decrease the up boundary of max_p\n",
    "                max_p += self.d_p\n",
    "                c2 += 1\n",
    "\n",
    "            if max_Q < 0.53:  # if max_Q < the up boundary，then increase the up boundary of max_q\n",
    "                max_q += self.d_q\n",
    "                c2 += 1\n",
    "\n",
    "            i += 1\n",
    "\n",
    "            if c1 + c2 != 0:  # 查看是否进行了更新\n",
    "                if c1 != 0:  # if min_p或者min_q更新了，则减少\n",
    "                    est_cont[0] = self.add_data(min_p, min_q)\n",
    "                if c2 != 0:  # if max_p或者max_q更新了，则增加\n",
    "                    est_cont[1] = self.add_data(max_p, max_q)\n",
    "            else:\n",
    "                break\n",
    "\n",
    "            if i == 20:\n",
    "                break\n",
    "\n",
    "        return {\"p_range\": [round(min_p, 5), round(max_p, 5)], \n",
    "                \"q_range\": [round(min_q, 5), round(max_q, 5)],\n",
    "                \"P_range\": [round(min_P, 5), round(max_P, 5)], \n",
    "                \"Q_range\": [round(min_Q, 5), round(max_Q, 5)]}\n",
    "\n",
    "    def generate_sample(self, p_range, q_range, n_p=10, n_q=20):\n",
    "        sp_cont = [(p, q) for p in np.linspace(p_range[0], p_range[1], n_p) \n",
    "                        for q in np.linspace(q_range[0], q_range[1], n_q)]\n",
    "        return sp_cont"
   ],
   "outputs": [],
   "metadata": {}
  },
  {
   "cell_type": "code",
   "execution_count": 14,
   "source": [
    "gen_para = Gen_para(g=nx.gnm_random_graph(10000, 20000))"
   ],
   "outputs": [],
   "metadata": {}
  },
  {
   "cell_type": "code",
   "execution_count": 15,
   "source": [
    "t1 = time.perf_counter()\n",
    "print(\"======start======\")\n",
    "generated_params_range = gen_para.identify_range()\n",
    "print(f\"Time elapsed {time.perf_counter() - t1:.4f}s\")\n",
    "print(\"======end======\")"
   ],
   "outputs": [
    {
     "output_type": "stream",
     "name": "stdout",
     "text": [
      "======start======\n",
      "1 P:0.0014~0.0245 Q:0.2434~0.3689\n",
      "2 P:0.0007~0.0246 Q:0.2498~0.4011\n",
      "3 P:0.0007~0.0254 Q:0.2498~0.4311\n",
      "4 P:0.0007~0.0262 Q:0.2498~0.4528\n",
      "5 P:0.0007~0.0271 Q:0.2498~0.4843\n",
      "6 P:0.0007~0.0277 Q:0.2498~0.5388\n",
      "7 P:0.0007~0.0284 Q:0.2498~0.5284\n",
      "8 P:0.0007~0.0289 Q:0.2498~0.5582\n",
      "9 P:0.0007~0.0298 Q:0.2498~0.5583\n",
      "10 P:0.0007~0.0304 Q:0.2498~0.5626\n"
     ]
    },
    {
     "output_type": "error",
     "ename": "ValueError",
     "evalue": "Invalid format specifier",
     "traceback": [
      "\u001b[0;31m---------------------------------------------------------------------------\u001b[0m",
      "\u001b[0;31mValueError\u001b[0m                                Traceback (most recent call last)",
      "\u001b[0;32m<ipython-input-15-91bae49601ff>\u001b[0m in \u001b[0;36m<module>\u001b[0;34m\u001b[0m\n\u001b[1;32m      2\u001b[0m \u001b[0mprint\u001b[0m\u001b[0;34m(\u001b[0m\u001b[0;34m\"======start======\"\u001b[0m\u001b[0;34m)\u001b[0m\u001b[0;34m\u001b[0m\u001b[0;34m\u001b[0m\u001b[0m\n\u001b[1;32m      3\u001b[0m \u001b[0mgenerated_params_range\u001b[0m \u001b[0;34m=\u001b[0m \u001b[0mgen_para\u001b[0m\u001b[0;34m.\u001b[0m\u001b[0midentify_range\u001b[0m\u001b[0;34m(\u001b[0m\u001b[0;34m)\u001b[0m\u001b[0;34m\u001b[0m\u001b[0;34m\u001b[0m\u001b[0m\n\u001b[0;32m----> 4\u001b[0;31m \u001b[0mprint\u001b[0m\u001b[0;34m(\u001b[0m\u001b[0;34mf\"Time elapsed {time.perf_counter() - t1:.4f s}\"\u001b[0m\u001b[0;34m)\u001b[0m\u001b[0;34m\u001b[0m\u001b[0;34m\u001b[0m\u001b[0m\n\u001b[0m\u001b[1;32m      5\u001b[0m \u001b[0mprint\u001b[0m\u001b[0;34m(\u001b[0m\u001b[0;34m\"======end======\"\u001b[0m\u001b[0;34m)\u001b[0m\u001b[0;34m\u001b[0m\u001b[0;34m\u001b[0m\u001b[0m\n",
      "\u001b[0;31mValueError\u001b[0m: Invalid format specifier"
     ]
    }
   ],
   "metadata": {}
  },
  {
   "cell_type": "code",
   "execution_count": 16,
   "source": [
    "p_range, q_range = generated_params_range[\"p_range\"], generated_params_range[\"q_range\"]\n",
    "parameters = gen_para.generate_sample(p_range, q_range)"
   ],
   "outputs": [],
   "metadata": {}
  },
  {
   "cell_type": "code",
   "execution_count": 19,
   "source": [
    "p_range, q_range"
   ],
   "outputs": [
    {
     "output_type": "execute_result",
     "data": {
      "text/plain": [
       "([0.0005, 0.0245], [0.08, 0.16])"
      ]
     },
     "metadata": {},
     "execution_count": 19
    }
   ],
   "metadata": {}
  },
  {
   "cell_type": "code",
   "execution_count": null,
   "source": [
    "client = MongoClient('localhost', 27017)\n",
    "db = client.abmDiffusion\n",
    "prj = db.sparsity\n",
    "\n",
    "txt_cont = ['gnm_random_graph(10000,1000)', 'gnm_random_graph(10000,2000)',\n",
    "    'gnm_random_graph(10000,4000)', 'gnm_random_graph(10000,6000)',\n",
    "    'gnm_random_graph(10000,8000)', 'gnm_random_graph(10000,10000)', \n",
    "    'gnm_random_graph(10000,20000)']\n",
    "\n",
    "g_cont = [eval('nx.' + g) for g in txt_cont]\n",
    "bound_dict = {}\n",
    "for j, g in enumerate(g_cont):\n",
    "    t1 = time.perf_counter()\n",
    "    print(j+1, txt_cont[j])\n",
    "    p_cont = (0.0003, 0.02)  \n",
    "    q_cont = (0.076*3.0/(j + 4), 0.12*3.0/(j + 4))  # 小心设置\n",
    "    delta = (0.0001, 0.001)\n",
    "    ger_samp = Gen_para(g=g, p_cont=p_cont, q_cont=q_cont, delta=delta)\n",
    "    bound = ger_samp.identify_range()\n",
    "    prj.insert_one({\"_id\": txt_cont[j], \"param_boundary\": bound})\n",
    "    print(f'  time: {time.perf_counter() - t1:.2f}s')"
   ],
   "outputs": [],
   "metadata": {}
  },
  {
   "cell_type": "markdown",
   "source": [
    "## 4. Generate diffusion data of ABM"
   ],
   "metadata": {}
  },
  {
   "cell_type": "code",
   "execution_count": null,
   "source": [
    "from pymongo import MongoClient\n",
    "import datetime\n",
    "import multiprocessing\n",
    "\n",
    "def func(p, q, g):\n",
    "    '''\n",
    "    p: coefficient of innovativeness\n",
    "    q: coefficient of imitation\n",
    "    g: network\n",
    "    '''\n",
    "    p = round(p, 5)\n",
    "    q = round(q, 5)\n",
    "    diff = Diffuse(p, q, g=g, num_runs=40)\n",
    "    x = np.mean(diff.repete_diffuse(), axis=0)\n",
    "    return str([p, q]), list(np.concatenate(([p, q], x)))\n",
    "\n",
    "\n",
    "if __name__ == '__main__':\n",
    "    client = MongoClient('localhost', 27017)\n",
    "    db = client.abmDiffusion\n",
    "    prj = db.networks\n",
    "\n",
    "    txt_cont = ['gnm_random_graph(10000,1000)', 'gnm_random_graph(10000,2000)',\n",
    "        'gnm_random_graph(10000,4000)', 'gnm_random_graph(10000,6000)',\n",
    "        'gnm_random_graph(10000,8000)', 'gnm_random_graph(10000,10000)', \n",
    "        'gnm_random_graph(10000,20000)']\n",
    "\n",
    "    txt_cont = {x['_id'] for x in prj.find({}, projection={'_id': 1})}\n",
    "    prj2 = db.abmDatabase  # 新建一个集合\n",
    "    e_cont = {x['_id'] for x in prj2.find({})}\n",
    "    txt_cont = list(txt_cont - e_cont)\n",
    "    print(\"剩余:\", txt_cont)\n",
    "\n",
    "    for i, key in enumerate(txt_cont):\n",
    "        print(key)\n",
    "        print(\"  开始时间\", format(datetime.datetime.now()))\n",
    "        mongo_date = prj.find_one({\"_id\": key})\n",
    "        r_p = mongo_date['param_boundary']['p_range']\n",
    "        r_q = mongo_date['param_boundary']['q_range']\n",
    "        pq_cont = [(p, q) for p in np.linspace(r_p[0], r_p[1], num=30)\n",
    "                          for q in np.linspace(r_q[0], r_q[1], num=50)]\n",
    "\n",
    "        t1 = time.perf_counter()\n",
    "        pool = multiprocessing.Pool(processes=5)\n",
    "        result = []\n",
    "        for p, q in pq_cont:\n",
    "            result.append(pool.apply_async(func, (p, q, g)))\n",
    "        pool.close()\n",
    "        pool.join()\n",
    "        data = []\n",
    "        for res in result:\n",
    "            data.append(res.get())\n",
    "\n",
    "        print(i + 1, key, f'Time: {(time.perf_counter() - t1):.2f} s')\n",
    "        diffuse_curves = dict(data)\n",
    "        new_curves = {}\n",
    "        for i, k in enumerate(diffuse_curves):\n",
    "            new_curves[str(i)] = diffuse_curves[k]\n",
    "\n",
    "        prj2.insert_one({\"_id\": key, \"diffuse_curves\": new_curves})\n",
    "        print(\"  结束时间\", format(datetime.datetime.now()))"
   ],
   "outputs": [],
   "metadata": {}
  },
  {
   "cell_type": "code",
   "execution_count": null,
   "source": [],
   "outputs": [],
   "metadata": {}
  },
  {
   "cell_type": "markdown",
   "source": [
    "## 5. Fitting diffusion data of ABM with DEM"
   ],
   "metadata": {}
  },
  {
   "cell_type": "code",
   "execution_count": null,
   "source": [
    "from abmdiffuse import Diffuse\n",
    "from bassestimate import BassEstimate\n",
    "import numpy as np\n",
    "import pandas as pd\n",
    "import statsmodels.formula.api as smf\n",
    "import networkx as nx\n",
    "import time\n",
    "\n",
    "\n",
    "class estimateABM:\n",
    "    num_conds = 2  # 构建网格的节点个数\n",
    "\n",
    "    def __init__(self, s, intv_p=0.0005, intv_q=0.005, G=nx.gnm_random_graph(10000, 30000), m_p=True):\n",
    "        self.s = s\n",
    "        self.s_len = len(s)\n",
    "        self.intv_p = intv_p\n",
    "        self.intv_q = intv_q\n",
    "        self.G = G\n",
    "        self.k = nx.number_of_edges(self.G) / nx.number_of_nodes(self.G)\n",
    "        self.m_p = m_p  # 传给Diffuse，确定是否多进程\n",
    "\n",
    "    def __repr__(self):\n",
    "        return \"<G: {0.G!r} s_len={0.s_len} d_p={0.intv_p} d_q={0.intv_q}>\".format(self)\n",
    "\n",
    "    def r2(self, f_act):\n",
    "        f_act = np.array(f_act)\n",
    "        tse = np.sum(np.square(self.s - f_act))\n",
    "        mean_y = np.mean(self.s)\n",
    "        ssl = np.sum(np.square(self.s - mean_y))\n",
    "        return (ssl - tse)/ssl\n",
    "\n",
    "    def get_M(self, p, q):  # 获取对应扩散率曲线的最优潜在市场容量\n",
    "        if p <= 0:\n",
    "            raise Exception(f\"p={p}小于0!\")\n",
    "        elif q <= 0:\n",
    "            raise Exception(f\"q={q}小于0!\")\n",
    "        else:\n",
    "            diffu = Diffuse(p, q, g=self.G, num_runs=self.s_len, multi_proc=self.m_p)\n",
    "            s_estim = diffu.repete_diffuse()\n",
    "            x = np.mean(s_estim, axis=0)\n",
    "            a = np.sum(np.square(x)) / np.sum(self.s)  # 除以np.sum(self.s)是为减少a的大小\n",
    "            b = -2*np.sum(x*self.s) / np.sum(self.s)\n",
    "            c = np.sum(np.square(self.s)) / np.sum(self.s)\n",
    "            mse = np.sqrt(sum(self.s) * (4*a*c - b**2) / (4*a*self.s_len))\n",
    "            sigma = -b/(2*a)\n",
    "            m = sigma*self.G.number_of_nodes()\n",
    "            return [mse, p, q, m], list(x*sigma)\n",
    "\n",
    "    def gener_grid(self, p, q):\n",
    "        p, q = round(p, 5), round(q, 5)\n",
    "        temp = {(round(p - self.intv_p, 5) if p > self.intv_p else round(p/2, 5), \n",
    "                    round(q - self.intv_q, 5) if q > self.intv_q else round(q/2, 5)),\n",
    "                (round(p, 5),\n",
    "                    round(q - self.intv_q, 5) if q > self.intv_q else round(q/2, 5)),\n",
    "                (round(p + self.intv_p, 5),\n",
    "                    round(q - self.intv_q, 5) if q > self.intv_q else round(q/2, 5)),\n",
    "                (round(p - self.intv_p, 5) if p > self.intv_p else round(p/2, 5), \n",
    "                    round(q, 5)),\n",
    "                (round(p, 5), round(q, 5)),\n",
    "                (round(p + self.intv_p, 5), round(q, 5)),\n",
    "                (round(p - self.intv_p, 5) if p > self.intv_p else round(p/2, 5), \n",
    "                    round(q + self.intv_q, 5)),\n",
    "                (round(p, 5), round(q + self.intv_q, 5)),\n",
    "                (round(p + self.intv_p, 5), round(q + self.intv_q, 5))\n",
    "                }\n",
    "        return temp\n",
    "\n",
    "    def gener_init_pq(self):  # 生成初始搜索点(p0,q0)\n",
    "        rgs = BassEstimate(self.s)\n",
    "        P0, Q0 = rgs.optima_search()[1 : 3]  # SABM最优点（P0,Q0）\n",
    "        p_range = np.linspace(0.4*P0, P0, num=3)\n",
    "        q_range = np.linspace(0.2*Q0/self.k, 0.6*Q0/self.k, num=3)\n",
    "        to_fit = {}\n",
    "        params_cont = []\n",
    "        for p in p_range:  # 取9个点用于确定参数与估计值之间的联系\n",
    "            for q in q_range:\n",
    "                diffu = Diffuse(p, q, g=self.G, num_runs=self.s_len, multi_proc=self.m_p)\n",
    "                s_estim = diffu.repete_diffuse()\n",
    "                s_estim_avr = np.mean(s_estim, axis=0)\n",
    "                rgs_1 = BassEstimate(s_estim_avr)\n",
    "                P, Q = rgs_1.optima_search()[1: 3]\n",
    "                params_cont.append([p, q, P, Q])\n",
    "\n",
    "        to_fit = pd.DataFrame(params_cont, columns=['p', 'q', 'P', 'Q'])\n",
    "        result_p = smf.ols('p~P+Q-1', data=to_fit).fit()\n",
    "        result_q = smf.ols('q~P+Q-1', data=to_fit).fit()\n",
    "\n",
    "        p0 = result_p.params['P']*P0 + result_p.params['Q']*Q0\n",
    "        q0 = result_q.params['P']*P0 + result_q.params['Q']*Q0\n",
    "        return round(p0, 5), round(q0, 5)   # 保留5位小数位，防止出错\n",
    "\n",
    "    def solution_search(self, p0, q0):\n",
    "        solution_list = []\n",
    "        pq_set = self.gener_grid(p0, q0)\n",
    "        pq_trace = [pq_set.copy()]  # 初始化(p, q)的搜索轨迹，set().copy()得到新的对象\n",
    "        for p, q in pq_set:\n",
    "            try:\n",
    "                solution = self.get_M(p, q)\n",
    "                solution_list.append(solution)  # ([mse, p, q, s_M], [扩散曲线])\n",
    "            except Exception:\n",
    "                print(f\"p:{p}, q:{q}, 不搜索！\")\n",
    "\n",
    "        best_solution = sorted(solution_list)[:self.num_conds]  # 选取num_conds个候选点\n",
    "        condidate_points = [(z[0][1], z[0][2]) for z in best_solution]\n",
    "        his_cond = [condidate_points, ]\n",
    "        i = 0\n",
    "        while True:\n",
    "            i += 1\n",
    "            pq_set2 = set()\n",
    "            for z in condidate_points:  # 可以取多个作为候选最优解\n",
    "                temp = self.gener_grid(z[0], z[1])\n",
    "                pq_set2.update(temp)\n",
    "\n",
    "            new_points = pq_set2 - pq_set  # 集合减, 未包含在pd_set中的新(p, q)\n",
    "            print(f\"第{i}轮, 新增点个数:{len(new_points)}\")\n",
    "            if len(new_points) == 0:\n",
    "                break\n",
    "            else:\n",
    "                pq_trace.append(new_points)  # 将新增加的点添加到pq_trace中\n",
    "                for y in new_points:\n",
    "                    try:\n",
    "                        solution = self.get_M(y[0], y[1])\n",
    "                        solution_list.append(solution)\n",
    "                    except Exception:\n",
    "                        print(f\"p:{p}, q:{q}, 不搜索！\")\n",
    "\n",
    "                best_solution = sorted(solution_list, key=lambda x: x[0][0])[: self.num_conds]\n",
    "                condidate_points = [(z[0][1], z[0][2]) for z in best_solution]\n",
    "                his_cond.append(condidate_points)\n",
    "                opt_solution = best_solution[0]  # [mse, p, q, m], [扩散数据]\n",
    "                opt_curve = opt_solution[1]  # [扩散数据]\n",
    "                pq_set.update(new_points)\n",
    "\n",
    "        R2 = self.r2(opt_curve)\n",
    "        search_steps = len(pq_set)  # 搜索点的数量\n",
    "        result = {'params': opt_solution[0][1:],  # 估计值 [p, q, m]\n",
    "                  'fitness': R2,\n",
    "                  'best_curve': opt_curve,  # 最优拟合曲线\n",
    "                  'num_nodes': search_steps,    # 搜索点的数量\n",
    "                  'path': pq_trace,  # [{(p, q),}, ]的搜索轨迹\n",
    "                  'his_cond': his_cond,  # 候选点历史\n",
    "                  'his_data': solution_list}\n",
    "        return result"
   ],
   "outputs": [],
   "metadata": {}
  },
  {
   "cell_type": "markdown",
   "source": [
    "## 6. Evaluate the performance of the proposed method for finding an initial point"
   ],
   "metadata": {}
  },
  {
   "cell_type": "code",
   "execution_count": null,
   "source": [],
   "outputs": [],
   "metadata": {}
  },
  {
   "cell_type": "markdown",
   "source": [
    "## 实验方案:\r\n",
    "- 生成随机网络10000个节点的网络，最小边数为10000，最大边为200000，步长为10000，共20个网络\r\n",
    "- 记录其平均度、聚集系数、平均最短距离（稀疏性）\r\n",
    "- 在每个网络中进行实验"
   ],
   "metadata": {}
  },
  {
   "cell_type": "code",
   "execution_count": null,
   "source": [
    "edges_list, density_list, cluster_list = [], [], []\r\n",
    "d_cont = {}\r\n",
    "for num_edges in range(1000, 30000, 5000):\r\n",
    "    g = nx.gnm_random_graph(10000, num_edges)\r\n",
    "    avg_edge_density = nx.density(g)\r\n",
    "    avg_clustering = nx.average_clustering(g)\r\n",
    "    d_cont[num_edges] = (avg_edge_density, avg_clustering)\r\n",
    "    edges_list.append(num_edges)\r\n",
    "    density_list.append(avg_edge_density)\r\n",
    "    cluster_list.append(avg_clustering)\r\n",
    "    print(avg_edge_density, avg_clustering)"
   ],
   "outputs": [],
   "metadata": {}
  },
  {
   "cell_type": "code",
   "execution_count": null,
   "source": [],
   "outputs": [],
   "metadata": {}
  }
 ],
 "metadata": {
  "interpreter": {
   "hash": "9d80c921a4f3700b6c54904840b7c5203b4bbd27c66894405207b52b6dd5f6a6"
  },
  "kernelspec": {
   "name": "python3",
   "display_name": "Python 3.9.2 64-bit"
  },
  "language_info": {
   "codemirror_mode": {
    "name": "ipython",
    "version": 3
   },
   "file_extension": ".py",
   "mimetype": "text/x-python",
   "name": "python",
   "nbconvert_exporter": "python",
   "pygments_lexer": "ipython3",
   "version": "3.9.2"
  }
 },
 "nbformat": 4,
 "nbformat_minor": 4
}